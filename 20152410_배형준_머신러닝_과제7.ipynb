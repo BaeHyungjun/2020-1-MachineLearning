{
 "cells": [
  {
   "cell_type": "markdown",
   "metadata": {},
   "source": [
    "# 20152410 배형준 머신러닝 과제7"
   ]
  },
  {
   "cell_type": "code",
   "execution_count": 1,
   "metadata": {},
   "outputs": [],
   "source": [
    "# library import\n",
    "\n",
    "import numpy as np\n",
    "import pandas as pd\n",
    "import matplotlib\n",
    "import matplotlib.pyplot as plt"
   ]
  },
  {
   "cell_type": "code",
   "execution_count": 2,
   "metadata": {},
   "outputs": [],
   "source": [
    "# set my local working directory\n",
    "\n",
    "import os\n",
    "\n",
    "directory = 'C:\\\\Users\\\\golds\\\\Desktop\\\\중앙대학교\\\\2020-1 4학년 1학기\\\\머신러닝'\n",
    "os.chdir(directory)"
   ]
  },
  {
   "cell_type": "markdown",
   "metadata": {},
   "source": [
    "# 1. Plot the training data"
   ]
  },
  {
   "cell_type": "code",
   "execution_count": 3,
   "metadata": {},
   "outputs": [],
   "source": [
    "# load dataset\n",
    "\n",
    "train = pd.read_csv('./과제7/data-nonlinear.txt', header=None)\n",
    "train.columns = ['x', 'y', 'l']\n",
    "\n",
    "label_0 = train.loc[train['l'] == 0, :]\n",
    "label_1 = train.loc[train['l'] == 1, :]\n",
    "\n",
    "X = np.array(train[['x', 'y']])\n",
    "label = np.array(train['l']).reshape(-1, 1)"
   ]
  },
  {
   "cell_type": "code",
   "execution_count": 4,
   "metadata": {},
   "outputs": [
    {
     "data": {
      "image/png": "[encoded data removed]",
      "text/plain": [
       "<Figure size 432x432 with 1 Axes>"
      ]
     },
     "metadata": {
      "needs_background": "light"
     },
     "output_type": "display_data"
    }
   ],
   "source": [
    "# scatter plot with different colors for each label\n",
    "\n",
    "plt.figure(figsize=(6, 6))\n",
    "plt.plot(label_0.x, label_0.y, 'bo', label='label0')\n",
    "plt.plot(label_1.x, label_1.y, 'ro', label='label1')\n",
    "plt.tight_layout()\n",
    "plt.legend(loc='best', fontsize=12)\n",
    "plt.title('Scatter plot with different colors for each label', fontsize=20)\n",
    "plt.show()"
   ]
  },
  {
   "cell_type": "markdown",
   "metadata": {},
   "source": [
    "## Implement polynomial ridge logistic regression"
   ]
  },
  {
   "cell_type": "code",
   "execution_count": 147,
   "metadata": {},
   "outputs": [],
   "source": [
    "class make_polynomial:\n",
    "    def __init__(self, degree=2):\n",
    "        self.degree = degree\n",
    "    \n",
    "    def transform(self, X):\n",
    "        X = np.array(X)\n",
    "        degree_list = []\n",
    "        \n",
    "        for j in range(self.degree+1):\n",
    "            for i in range(self.degree+1):\n",
    "                degree_list.append((i, j))\n",
    "        \n",
    "        name = ['x^{}*y^{}'.format(degree_list[i][0], degree_list[i][1]) for i in range(len(degree_list))]\n",
    "        poly = np.zeros((X.shape[0], len(degree_list)))\n",
    "        \n",
    "        for i in range(len(degree_list)):\n",
    "            poly[:, i] = X[:, 0]**(degree_list[i][0]) * X[:, 1]**(degree_list[i][1])\n",
    "        \n",
    "        return pd.DataFrame(poly, columns=name)"
   ]
  },
  {
   "cell_type": "code",
   "execution_count": 148,
   "metadata": {},
   "outputs": [],
   "source": [
    "class standardscaler:\n",
    "    def __init__(self):\n",
    "        self.mean = 0\n",
    "        self.std = 0\n",
    "    \n",
    "    def fit(self, X):\n",
    "        X = np.array(X)\n",
    "        self.mean = np.mean(X, axis=0)\n",
    "        self.std = np.std(X, axis=0)\n",
    "        \n",
    "        return self\n",
    "\n",
    "    def transform(self, X):\n",
    "        X = np.array(X)\n",
    "        X_scaled = np.zeros(X.shape)\n",
    "        X_scaled[:, 0] = np.ones(X_scaled[:, 0].shape)\n",
    "        \n",
    "        for i in range(1, X.shape[1]):\n",
    "            temp = (X[:, i] - self.mean[i]) / self.std[i]\n",
    "            X_scaled[:, i] = temp\n",
    "        \n",
    "        return X_scaled"
   ]
  },
  {
   "cell_type": "code",
   "execution_count": 189,
   "metadata": {},
   "outputs": [],
   "source": [
    "# 이제까지 def로만 해봤는데 class로도 해보고 싶어서 새로운 시도를 한다!\n",
    "\n",
    "class logistic_regression:\n",
    "    def __init__(self, learning_rate=0.01, error_bound=10**(-8), critical_value=0.5, iteration=1000, alpha=1):\n",
    "        self.learning_rate = learning_rate\n",
    "        self.error_bound = error_bound\n",
    "        self.critical_value = critical_value\n",
    "        self.iteration = iteration\n",
    "        \n",
    "        self.coef_ = 0\n",
    "        self.record_coef = 0\n",
    "        self.record_cost = []\n",
    "        self.record_accuracy = []\n",
    "        self.alpha = alpha\n",
    "        \n",
    "    def sigmoid(self, X, theta):\n",
    "        z = np.dot(X, theta)\n",
    "        \n",
    "        return 1 / (1 + np.exp(-z))\n",
    "    \n",
    "    def cost(self, sigma, label, theta):\n",
    "        delta = 10**(-10)\n",
    "        value = - np.mean(label * np.log(sigma+delta) + (1 - label) * np.log(1-sigma+delta)) + self.alpha / 2 * np.sum(theta**2)\n",
    "        \n",
    "        return value\n",
    "        \n",
    "    def fit(self, X, Y):\n",
    "        X = np.array(X)\n",
    "        Y = np.array(Y).reshape(-1, 1)\n",
    "        n = X.shape[0]\n",
    "        p = X.shape[1]\n",
    "        \n",
    "        theta = np.zeros((p, 1))\n",
    "        self.record_coef = theta.T\n",
    "        \n",
    "        sigma = self.sigmoid(X, theta)\n",
    "        cost = self.cost(sigma, Y, theta)\n",
    "        self.record_cost.append(float(cost))\n",
    "        \n",
    "        predict = np.where(sigma >= self.critical_value, 1, 0).reshape(-1, 1)\n",
    "        accuracy = np.mean(predict == Y)\n",
    "        self.record_accuracy.append(accuracy)\n",
    "        \n",
    "        import time\n",
    "        start = time.time()\n",
    "        \n",
    "        # model fitting\n",
    "        while True:\n",
    "            # calculate gradient\n",
    "            gradient = np.dot(X.T, sigma - Y) / n + self.alpha * theta\n",
    "        \n",
    "            # renew the parameters, calculate cost to evaluate the parameters\n",
    "            theta = theta - self.learning_rate * gradient\n",
    "            sigma = self.sigmoid(X, theta)\n",
    "            cost = self.cost(sigma, Y, theta)\n",
    "        \n",
    "            # store results\n",
    "            self.record_coef = np.vstack((self.record_coef, theta.T))\n",
    "            self.record_cost.append(float(cost))\n",
    "            \n",
    "            predict = np.where(sigma >= self.critical_value, 1, 0).reshape(-1, 1)\n",
    "            accuracy = np.mean(predict == Y)\n",
    "            self.record_accuracy.append(accuracy)\n",
    "\n",
    "            # stopping rules\n",
    "            if len(self.record_cost) > self.iteration and self.record_cost[-2] - self.record_cost[-1] < self.error_bound:\n",
    "                break\n",
    "            \n",
    "            # print model fitting process\n",
    "            if len(self.record_cost) % 5000 == 0:\n",
    "                print('Running time : {}s, Iter : {}, Cost : {}'.format(round(time.time() - start), len(self.record_cost), cost))\n",
    "            \n",
    "            # error situation\n",
    "            if len(self.record_cost) > 100000:\n",
    "                print('반복 횟수가 너무 많습니다. cost가 수렴하지 않은 상태로 학습을 종료합니다. 학습률을 조정해보시기 바랍니다.')\n",
    "                break\n",
    "        \n",
    "        self.coef_ = self.record_coef[-1, :].T\n",
    "        \n",
    "        return self\n",
    "        \n",
    "    def predict_probability(self, X):\n",
    "        X = np.array(self.make_polynomial(X, self.polynomial_degree))\n",
    "        \n",
    "        return self.sigmoid(X, self.coef_).reshape(-1, 1)\n",
    "    \n",
    "    def predict_label(self, X):\n",
    "        X = np.array(self.make_polynomial(X, self.polynomial_degree))\n",
    "        value = self.sigmoid(X, self.coef_)\n",
    "        predict = np.where(value >= self.critical_value, 1, 0).reshape(-1, 1)\n",
    "        \n",
    "        return predict.reshape(-1, 1)"
   ]
  },
  {
   "cell_type": "markdown",
   "metadata": {},
   "source": [
    "## Model fitting"
   ]
  },
  {
   "cell_type": "code",
   "execution_count": 217,
   "metadata": {},
   "outputs": [],
   "source": [
    "polynomial = make_polynomial(degree=9)\n",
    "\n",
    "X_poly = polynomial.transform(X)"
   ]
  },
  {
   "cell_type": "code",
   "execution_count": 218,
   "metadata": {},
   "outputs": [],
   "source": [
    "scaler = standardscaler()\n",
    "\n",
    "scaler.fit(X_poly)\n",
    "\n",
    "X_poly_scaled = scaler.transform(X_poly)"
   ]
  },
  {
   "cell_type": "code",
   "execution_count": 271,
   "metadata": {},
   "outputs": [],
   "source": [
    "alpha_overfit = 0\n",
    "alpha_justright = 0.0001\n",
    "alpha_underfit = 100"
   ]
  },
  {
   "cell_type": "code",
   "execution_count": 256,
   "metadata": {},
   "outputs": [
    {
     "name": "stdout",
     "output_type": "stream",
     "text": [
      "Running time : 7s, Iter : 5000, Cost : 0.20086056712179093\n",
      "Running time : 26s, Iter : 10000, Cost : 0.18405570530306306\n",
      "Running time : 57s, Iter : 15000, Cost : 0.17278513099508\n",
      "Running time : 100s, Iter : 20000, Cost : 0.16413512086049695\n",
      "Running time : 154s, Iter : 25000, Cost : 0.15712645390368327\n",
      "Running time : 222s, Iter : 30000, Cost : 0.1512646151682312\n"
     ]
    },
    {
     "data": {
      "text/plain": [
       "<__main__.logistic_regression at 0x219dfcb0518>"
      ]
     },
     "execution_count": 256,
     "metadata": {},
     "output_type": "execute_result"
    }
   ],
   "source": [
    "model_overfit = logistic_regression(learning_rate=4.5,\n",
    "                                     error_bound=10**(-6),\n",
    "                                     critical_value=0.5,\n",
    "                                     iteration=10000,\n",
    "                                     alpha=alpha_overfit)\n",
    "\n",
    "model_overfit.fit(X_poly_scaled, label)"
   ]
  },
  {
   "cell_type": "code",
   "execution_count": 272,
   "metadata": {},
   "outputs": [
    {
     "name": "stdout",
     "output_type": "stream",
     "text": [
      "Running time : 7s, Iter : 5000, Cost : 0.28021998024374245\n",
      "Running time : 28s, Iter : 10000, Cost : 0.2733710949084482\n"
     ]
    },
    {
     "data": {
      "text/plain": [
       "<__main__.logistic_regression at 0x219dc92ec50>"
      ]
     },
     "execution_count": 272,
     "metadata": {},
     "output_type": "execute_result"
    }
   ],
   "source": [
    "model_justright = logistic_regression(learning_rate=0.1,\n",
    "                                      error_bound=10**(-6),\n",
    "                                      critical_value=0.5,\n",
    "                                      iteration=10000,\n",
    "                                      alpha=alpha_justright)\n",
    "\n",
    "model_justright.fit(X_poly_scaled, label)"
   ]
  },
  {
   "cell_type": "code",
   "execution_count": 273,
   "metadata": {},
   "outputs": [
    {
     "name": "stdout",
     "output_type": "stream",
     "text": [
      "Running time : 7s, Iter : 5000, Cost : 0.6892182292340078\n",
      "Running time : 26s, Iter : 10000, Cost : 0.6892182292340078\n"
     ]
    },
    {
     "data": {
      "text/plain": [
       "<__main__.logistic_regression at 0x219dc92ecf8>"
      ]
     },
     "execution_count": 273,
     "metadata": {},
     "output_type": "execute_result"
    }
   ],
   "source": [
    "model_underfit = logistic_regression(learning_rate=0.01,\n",
    "                                     error_bound=10**(-6),\n",
    "                                     critical_value=0.5,\n",
    "                                     iteration=10000,\n",
    "                                     alpha=alpha_underfit)\n",
    "\n",
    "model_underfit.fit(X_poly_scaled, label)"
   ]
  },
  {
   "cell_type": "markdown",
   "metadata": {},
   "source": [
    "# 2. Plot the training error with varying regularization parameters"
   ]
  },
  {
   "cell_type": "code",
   "execution_count": 274,
   "metadata": {},
   "outputs": [
    {
     "data": {
      "image/png": "[encoded data removed]",
      "text/plain": [
       "<Figure size 864x288 with 1 Axes>"
      ]
     },
     "metadata": {
      "needs_background": "light"
     },
     "output_type": "display_data"
    }
   ],
   "source": [
    "plt.figure(figsize=(12, 4))\n",
    "plt.plot(model_overfit.record_cost, 'r-', label='overfit')\n",
    "plt.plot(model_justright.record_cost, 'g-', label='justright')\n",
    "plt.plot(model_underfit.record_cost, 'b-', label='underfit')\n",
    "plt.title('Train error', fontsize=20)\n",
    "plt.xlabel('iteration')\n",
    "plt.ylabel('train error')\n",
    "plt.legend(loc='best', fontsize=12)\n",
    "plt.show()"
   ]
  },
  {
   "cell_type": "markdown",
   "metadata": {},
   "source": [
    "# 3. Display the values of the chosen regularization parameters"
   ]
  },
  {
   "cell_type": "code",
   "execution_count": 287,
   "metadata": {},
   "outputs": [
    {
     "name": "stdout",
     "output_type": "stream",
     "text": [
      "\u001b[31m모델이 over-fitting되려면 parameter인 세타에 규제가 없어야 하므로 0이 되야 한다.\n",
      "\u001b[0m\n",
      "\u001b[32m모델이 just-right되려면 parameter인 세타에 약간의 규제가 있어야 하므로 0.00025이 되야 한다.\n",
      "\u001b[0m\n",
      "\u001b[34m모델이 under-fitting되려면 parameter인 세타에 규제가 많아야 하므로 100이 되야 한다.\n",
      "\u001b[0m\n"
     ]
    }
   ],
   "source": [
    "from colorama import Fore, Back, Style \n",
    "\n",
    "print(Fore.RED + '모델이 over-fitting되려면 parameter인 세타에 규제가 없어야 하므로 {}이 되야 한다.'.format(alpha_overfit))\n",
    "print(Style.RESET_ALL)\n",
    "print(Fore.GREEN + '모델이 just-right되려면 parameter인 세타에 약간의 규제가 있어야 하므로 {}이 되야 한다.'.format(alpha_justright))\n",
    "print(Style.RESET_ALL)\n",
    "print(Fore.BLUE + '모델이 under-fitting되려면 parameter인 세타에 규제가 많아야 하므로 {}이 되야 한다.'.format(alpha_underfit))\n",
    "print(Style.RESET_ALL)"
   ]
  },
  {
   "cell_type": "markdown",
   "metadata": {},
   "source": [
    "# 4. Plot the training accuracy with varying regularization parameters"
   ]
  },
  {
   "cell_type": "code",
   "execution_count": 275,
   "metadata": {},
   "outputs": [
    {
     "data": {
      "image/png": "[encoded data removed]",
      "text/plain": [
       "<Figure size 864x288 with 1 Axes>"
      ]
     },
     "metadata": {
      "needs_background": "light"
     },
     "output_type": "display_data"
    }
   ],
   "source": [
    "plt.figure(figsize=(12, 4))\n",
    "plt.plot(model_overfit.record_accuracy, 'r-', label='overfit')\n",
    "plt.plot(model_justright.record_accuracy, 'g-', label='justright')\n",
    "plt.plot(model_underfit.record_accuracy, 'b-', label='underfit')\n",
    "plt.title('Model train accuracy', fontsize=20)\n",
    "plt.xlabel('iteration')\n",
    "plt.ylabel('accuracy')\n",
    "plt.legend(loc='best', fontsize=12)\n",
    "plt.show()"
   ]
  },
  {
   "cell_type": "markdown",
   "metadata": {},
   "source": [
    "# 5. Write down the final training accuracy"
   ]
  },
  {
   "cell_type": "code",
   "execution_count": null,
   "metadata": {},
   "outputs": [],
   "source": [
    "print('lambda를 {}로 했을 때 ')"
   ]
  },
  {
   "cell_type": "markdown",
   "metadata": {},
   "source": [
    "# 6. Plot the optimal classifier superimposed on the training data"
   ]
  },
  {
   "cell_type": "code",
   "execution_count": null,
   "metadata": {},
   "outputs": [],
   "source": [
    "# make x_grid, y_grid, z_grid\n",
    "\n",
    "x_linspace = np.linspace(-1, 1.2, 300)\n",
    "y_linspace = np.linspace(-1, 1.2, 300)\n",
    "x_grid, y_grid = np.meshgrid(x_linspace, y_linspace)\n",
    "\n",
    "z_grid = np.zeros(x_grid.shape)\n",
    "\n",
    "for i in range(x_grid.shape[0]):\n",
    "    for j in range(x_grid.shape[1]):\n",
    "        temp = np.array([x_grid[i, j], y_grid[i, j]]).reshape(1, 2)\n",
    "        temp_poly = model.make_polynomial(temp, polynomial_degree=4)\n",
    "        z_grid[i, j] = model.sigmoid(temp_poly, model.coef_.reshape(-1, 1))"
   ]
  },
  {
   "cell_type": "code",
   "execution_count": null,
   "metadata": {},
   "outputs": [],
   "source": [
    "# scatter plot with different colors for each label\n",
    "\n",
    "plt.figure(figsize=(10, 10))\n",
    "plt.plot(label_0.x, label_0.y, 'bo', label='label0')\n",
    "plt.plot(label_1.x, label_1.y, 'ro', label='label1')\n",
    "plt.xlim((-1, 1.2))\n",
    "plt.ylim((-1, 1.2))\n",
    "plt.legend(loc='best', fontsize=15)\n",
    "plt.title('Scatter plot with polynomial logistic regression line', fontsize=20)\n",
    "plt.contour(x_grid,\n",
    "            y_grid,\n",
    "            z_grid,\n",
    "            levels=[0.5],\n",
    "            colors='green')\n",
    "plt.show()"
   ]
  },
  {
   "cell_type": "markdown",
   "metadata": {},
   "source": [
    "초록 선의 바깥쪽에 위치한 점들을 label 0 (파란색)으로 예측하고 안쪽에 위치한 점들을 label 1 (빨간색)으로 예측한다."
   ]
  }
 ],
 "metadata": {
  "kernelspec": {
   "display_name": "Python 3",
   "language": "python",
   "name": "python3"
  },
  "language_info": {
   "codemirror_mode": {
    "name": "ipython",
    "version": 3
   },
   "file_extension": ".py",
   "mimetype": "text/x-python",
   "name": "python",
   "nbconvert_exporter": "python",
   "pygments_lexer": "ipython3",
   "version": "3.7.3"
  }
 },
 "nbformat": 4,
 "nbformat_minor": 2
}
