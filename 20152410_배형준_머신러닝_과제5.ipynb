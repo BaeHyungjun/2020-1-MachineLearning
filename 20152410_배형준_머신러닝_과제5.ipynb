{
 "cells": [
  {
   "cell_type": "markdown",
   "metadata": {},
   "source": [
    "# 20152410 배형준 머신러닝 과제5"
   ]
  },
  {
   "cell_type": "code",
   "execution_count": 1,
   "metadata": {},
   "outputs": [],
   "source": [
    "# library import\n",
    "\n",
    "import numpy as np\n",
    "import pandas as pd\n",
    "import matplotlib\n",
    "import matplotlib.pyplot as plt"
   ]
  },
  {
   "cell_type": "code",
   "execution_count": 2,
   "metadata": {},
   "outputs": [],
   "source": [
    "# set my local working directory\n",
    "\n",
    "import os\n",
    "\n",
    "directory = 'C:\\\\Users\\\\golds\\\\Desktop\\\\중앙대학교\\\\2020-1 4학년 1학기\\\\머신러닝'\n",
    "os.chdir(directory)"
   ]
  },
  {
   "cell_type": "markdown",
   "metadata": {},
   "source": [
    "# 1. Plot the training data"
   ]
  },
  {
   "cell_type": "code",
   "execution_count": 12,
   "metadata": {},
   "outputs": [],
   "source": [
    "# load dataset\n",
    "\n",
    "train = pd.read_csv('./과제5/data.txt', header=None)\n",
    "train.columns = ['x', 'y', 'l']\n",
    "\n",
    "label_0 = train.loc[train['l'] == 0, :]\n",
    "label_1 = train.loc[train['l'] == 1, :]\n",
    "\n",
    "X = train[['x', 'y']]\n",
    "Y = train['l']"
   ]
  },
  {
   "cell_type": "code",
   "execution_count": 13,
   "metadata": {},
   "outputs": [
    {
     "data": {
      "text/html": [
       "<div>\n",
       "<style scoped>\n",
       "    .dataframe tbody tr th:only-of-type {\n",
       "        vertical-align: middle;\n",
       "    }\n",
       "\n",
       "    .dataframe tbody tr th {\n",
       "        vertical-align: top;\n",
       "    }\n",
       "\n",
       "    .dataframe thead th {\n",
       "        text-align: right;\n",
       "    }\n",
       "</style>\n",
       "<table border=\"1\" class=\"dataframe\">\n",
       "  <thead>\n",
       "    <tr style=\"text-align: right;\">\n",
       "      <th></th>\n",
       "      <th>x</th>\n",
       "      <th>y</th>\n",
       "      <th>l</th>\n",
       "    </tr>\n",
       "  </thead>\n",
       "  <tbody>\n",
       "    <tr>\n",
       "      <th>0</th>\n",
       "      <td>34.623660</td>\n",
       "      <td>78.024693</td>\n",
       "      <td>0</td>\n",
       "    </tr>\n",
       "    <tr>\n",
       "      <th>1</th>\n",
       "      <td>30.286711</td>\n",
       "      <td>43.894998</td>\n",
       "      <td>0</td>\n",
       "    </tr>\n",
       "    <tr>\n",
       "      <th>2</th>\n",
       "      <td>35.847409</td>\n",
       "      <td>72.902198</td>\n",
       "      <td>0</td>\n",
       "    </tr>\n",
       "    <tr>\n",
       "      <th>3</th>\n",
       "      <td>60.182599</td>\n",
       "      <td>86.308552</td>\n",
       "      <td>1</td>\n",
       "    </tr>\n",
       "    <tr>\n",
       "      <th>4</th>\n",
       "      <td>79.032736</td>\n",
       "      <td>75.344376</td>\n",
       "      <td>1</td>\n",
       "    </tr>\n",
       "  </tbody>\n",
       "</table>\n",
       "</div>"
      ],
      "text/plain": [
       "           x          y  l\n",
       "0  34.623660  78.024693  0\n",
       "1  30.286711  43.894998  0\n",
       "2  35.847409  72.902198  0\n",
       "3  60.182599  86.308552  1\n",
       "4  79.032736  75.344376  1"
      ]
     },
     "execution_count": 13,
     "metadata": {},
     "output_type": "execute_result"
    }
   ],
   "source": [
    "train.head()"
   ]
  },
  {
   "cell_type": "code",
   "execution_count": 14,
   "metadata": {},
   "outputs": [
    {
     "data": {
      "image/png": "[encoded data removed]",
      "text/plain": [
       "<Figure size 864x432 with 1 Axes>"
      ]
     },
     "metadata": {
      "needs_background": "light"
     },
     "output_type": "display_data"
    }
   ],
   "source": [
    "plt.figure(figsize=(12, 6))\n",
    "plt.plot(label_0.x, label_0.y, 'bo')\n",
    "plt.scatter(label_1.x, label_1.y, c='r')\n",
    "plt.title('plot with different colors for each label', fontsize=20)\n",
    "plt.show()"
   ]
  },
  {
   "cell_type": "markdown",
   "metadata": {},
   "source": [
    "파란 점과 빨간 점을 적당히 구분할 수 있는 선이 존재함을 시각적으로 확인할 수 있다. 다만 직선보다는 완만한 곡선이 두 그룹을 더 잘 구별할 수 있을 것 같다."
   ]
  },
  {
   "cell_type": "markdown",
   "metadata": {},
   "source": [
    "# 2. Plot the estimated parameters"
   ]
  },
  {
   "cell_type": "code",
   "execution_count": 139,
   "metadata": {},
   "outputs": [],
   "source": [
    "def sigmoid(X, theta):\n",
    "    z = 1 / (1 + np.exp(- X.dot(theta)))\n",
    "    return z"
   ]
  },
  {
   "cell_type": "code",
   "execution_count": 143,
   "metadata": {},
   "outputs": [],
   "source": [
    "def logistic_regression(X, Y):\n",
    "    # 데이터 타입 정리\n",
    "    m = len(Y)\n",
    "    X = np.hstack((np.ones((m, 1)), X))\n",
    "    Y = np.array(Y).reshape(-1, 1)\n",
    "    \n",
    "    # learning parameters\n",
    "    learning_rate = 10**(-5)\n",
    "    error_bound = 10**(-6)\n",
    "    critical_value = 0.5\n",
    "    \n",
    "    # setting for learning\n",
    "    initial_theta = np.random.randn(3, 1)\n",
    "    initial_sigmoid = sigmoid(X, initial_theta)\n",
    "    initial_loss = np.sum(- Y * np.log(initial_sigmoid) - (1 - Y) * np.log(1 - initial_sigmoid)) / m\n",
    "\n",
    "    temp_theta = initial_theta\n",
    "    temp_sigmoid = initial_sigmoid\n",
    "    record_theta = initial_theta.T\n",
    "    record_loss = [float(initial_loss)]\n",
    "\n",
    "    # predict\n",
    "    initial_predict = np.where(initial_sigmoid >= critical_value, 1, 0)\n",
    "    record_accuracy = [np.mean(initial_predict)]\n",
    "    \n",
    "    ## model learning\n",
    "    while True:\n",
    "        # calculate gradient\n",
    "        gradient_theta = ((temp_sigmoid - Y).T.dot(X)).T / m\n",
    "        \n",
    "        # renew the parameters, calculate loss to evaluate the parameters\n",
    "        temp_theta = temp_theta - learning_rate * gradient_theta\n",
    "        temp_sigmoid = sigmoid(X, temp_theta)\n",
    "        temp_loss = np.sum(- Y * np.log(temp_sigmoid) - (1 - Y) * np.log(1 - temp_sigmoid)) / m\n",
    "        \n",
    "        # store results\n",
    "        record_theta = np.vstack((record_theta, temp_theta.T))\n",
    "        record_loss.append(float(temp_loss))\n",
    "        temp_predict = np.where(temp_sigmoid >= critical_value, 1, 0)\n",
    "        record_accuracy.append(np.mean(temp_predict))\n",
    "        \n",
    "        # stopping rule\n",
    "        if len(record_loss) > 100000 and record_loss[-2] - record_loss[-1] < error_bound:\n",
    "            break\n",
    "    \n",
    "    result_theta = record_theta[-1, :]\n",
    "    fitted_value = temp_predict\n",
    "    \n",
    "    return result_theta, fitted_value, record_theta, record_loss, record_accuracy"
   ]
  },
  {
   "cell_type": "code",
   "execution_count": 144,
   "metadata": {},
   "outputs": [
    {
     "name": "stderr",
     "output_type": "stream",
     "text": [
      "C:\\ProgramData\\Anaconda3\\lib\\site-packages\\ipykernel_launcher.py:15: RuntimeWarning: divide by zero encountered in log\n",
      "  from ipykernel import kernelapp as app\n",
      "C:\\ProgramData\\Anaconda3\\lib\\site-packages\\ipykernel_launcher.py:15: RuntimeWarning: invalid value encountered in multiply\n",
      "  from ipykernel import kernelapp as app\n",
      "C:\\ProgramData\\Anaconda3\\lib\\site-packages\\ipykernel_launcher.py:34: RuntimeWarning: divide by zero encountered in log\n",
      "C:\\ProgramData\\Anaconda3\\lib\\site-packages\\ipykernel_launcher.py:34: RuntimeWarning: invalid value encountered in multiply\n"
     ]
    }
   ],
   "source": [
    "result_theta, fitted_value, record_theta, record_loss, record_accuracy = logistic_regression(X, Y)"
   ]
  },
  {
   "cell_type": "code",
   "execution_count": 146,
   "metadata": {},
   "outputs": [
    {
     "name": "stdout",
     "output_type": "stream",
     "text": [
      "nan 0.5714564268170911 0.5714560396100237\n"
     ]
    }
   ],
   "source": [
    "print(record_loss[1], record_loss[-2], record_loss[-1])"
   ]
  },
  {
   "cell_type": "code",
   "execution_count": 148,
   "metadata": {},
   "outputs": [
    {
     "name": "stdout",
     "output_type": "stream",
     "text": [
      "0.97\n"
     ]
    }
   ],
   "source": [
    "print(record_accuracy[-1])"
   ]
  },
  {
   "cell_type": "code",
   "execution_count": 150,
   "metadata": {},
   "outputs": [
    {
     "name": "stdout",
     "output_type": "stream",
     "text": [
      "3.872070674093564e-07\n"
     ]
    }
   ],
   "source": [
    "print(record_loss[-2] - record_loss[-1])"
   ]
  },
  {
   "cell_type": "code",
   "execution_count": 149,
   "metadata": {},
   "outputs": [
    {
     "data": {
      "image/png": "[encoded data removed]",
      "text/plain": [
       "<Figure size 720x360 with 2 Axes>"
      ]
     },
     "metadata": {
      "needs_background": "light"
     },
     "output_type": "display_data"
    }
   ],
   "source": [
    "plt.figure(figsize=(10, 5))\n",
    "plt.subplot(121)\n",
    "plt.plot(record_loss)\n",
    "plt.subplot(122)\n",
    "plt.plot(record_accuracy)\n",
    "plt.show()"
   ]
  }
 ],
 "metadata": {
  "kernelspec": {
   "display_name": "Python 3",
   "language": "python",
   "name": "python3"
  },
  "language_info": {
   "codemirror_mode": {
    "name": "ipython",
    "version": 3
   },
   "file_extension": ".py",
   "mimetype": "text/x-python",
   "name": "python",
   "nbconvert_exporter": "python",
   "pygments_lexer": "ipython3",
   "version": "3.7.3"
  }
 },
 "nbformat": 4,
 "nbformat_minor": 2
}
