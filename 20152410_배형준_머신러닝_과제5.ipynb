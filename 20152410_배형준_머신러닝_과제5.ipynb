{
 "cells": [
  {
   "cell_type": "markdown",
   "metadata": {},
   "source": [
    "# 20152410 배형준 머신러닝 과제5"
   ]
  },
  {
   "cell_type": "code",
   "execution_count": 1,
   "metadata": {},
   "outputs": [],
   "source": [
    "# library import\n",
    "\n",
    "import numpy as np\n",
    "import pandas as pd\n",
    "import matplotlib\n",
    "import matplotlib.pyplot as plt"
   ]
  },
  {
   "cell_type": "code",
   "execution_count": 2,
   "metadata": {},
   "outputs": [],
   "source": [
    "# set my local working directory\n",
    "\n",
    "import os\n",
    "\n",
    "directory = 'C:\\\\Users\\\\golds\\\\Desktop\\\\중앙대학교\\\\2020-1 4학년 1학기\\\\머신러닝'\n",
    "os.chdir(directory)"
   ]
  },
  {
   "cell_type": "markdown",
   "metadata": {},
   "source": [
    "# 1. Plot the training data"
   ]
  },
  {
   "cell_type": "code",
   "execution_count": 3,
   "metadata": {},
   "outputs": [],
   "source": [
    "# load dataset\n",
    "\n",
    "train = pd.read_csv('./과제5/data.txt', header=None)\n",
    "train.columns = ['x', 'y', 'l']\n",
    "\n",
    "label_0 = train.loc[train['l'] == 0, :]\n",
    "label_1 = train.loc[train['l'] == 1, :]\n",
    "\n",
    "X = train[['x', 'y']]\n",
    "Y = train['l']"
   ]
  },
  {
   "cell_type": "code",
   "execution_count": 4,
   "metadata": {},
   "outputs": [
    {
     "data": {
      "text/html": [
       "<div>\n",
       "<style scoped>\n",
       "    .dataframe tbody tr th:only-of-type {\n",
       "        vertical-align: middle;\n",
       "    }\n",
       "\n",
       "    .dataframe tbody tr th {\n",
       "        vertical-align: top;\n",
       "    }\n",
       "\n",
       "    .dataframe thead th {\n",
       "        text-align: right;\n",
       "    }\n",
       "</style>\n",
       "<table border=\"1\" class=\"dataframe\">\n",
       "  <thead>\n",
       "    <tr style=\"text-align: right;\">\n",
       "      <th></th>\n",
       "      <th>x</th>\n",
       "      <th>y</th>\n",
       "      <th>l</th>\n",
       "    </tr>\n",
       "  </thead>\n",
       "  <tbody>\n",
       "    <tr>\n",
       "      <th>0</th>\n",
       "      <td>34.623660</td>\n",
       "      <td>78.024693</td>\n",
       "      <td>0</td>\n",
       "    </tr>\n",
       "    <tr>\n",
       "      <th>1</th>\n",
       "      <td>30.286711</td>\n",
       "      <td>43.894998</td>\n",
       "      <td>0</td>\n",
       "    </tr>\n",
       "    <tr>\n",
       "      <th>2</th>\n",
       "      <td>35.847409</td>\n",
       "      <td>72.902198</td>\n",
       "      <td>0</td>\n",
       "    </tr>\n",
       "    <tr>\n",
       "      <th>3</th>\n",
       "      <td>60.182599</td>\n",
       "      <td>86.308552</td>\n",
       "      <td>1</td>\n",
       "    </tr>\n",
       "    <tr>\n",
       "      <th>4</th>\n",
       "      <td>79.032736</td>\n",
       "      <td>75.344376</td>\n",
       "      <td>1</td>\n",
       "    </tr>\n",
       "  </tbody>\n",
       "</table>\n",
       "</div>"
      ],
      "text/plain": [
       "           x          y  l\n",
       "0  34.623660  78.024693  0\n",
       "1  30.286711  43.894998  0\n",
       "2  35.847409  72.902198  0\n",
       "3  60.182599  86.308552  1\n",
       "4  79.032736  75.344376  1"
      ]
     },
     "execution_count": 4,
     "metadata": {},
     "output_type": "execute_result"
    }
   ],
   "source": [
    "train.head()"
   ]
  },
  {
   "cell_type": "code",
   "execution_count": 5,
   "metadata": {},
   "outputs": [
    {
     "data": {
      "image/png": "[encoded data removed]",
      "text/plain": [
       "<Figure size 864x432 with 1 Axes>"
      ]
     },
     "metadata": {
      "needs_background": "light"
     },
     "output_type": "display_data"
    }
   ],
   "source": [
    "# scatter plot of data with different colors for each label\n",
    "\n",
    "plt.figure(figsize=(12, 6))\n",
    "plt.plot(label_0.x, label_0.y, 'bo')\n",
    "plt.plot(label_1.x, label_1.y, 'ro')\n",
    "plt.title('scatter plot of data with different colors for each label', fontsize=20)\n",
    "plt.show()"
   ]
  },
  {
   "cell_type": "markdown",
   "metadata": {},
   "source": [
    "파란 점과 빨간 점을 적당히 구분할 수 있는 선이 존재함을 시각적으로 확인할 수 있다. 다만 직선보다는 완만한 곡선이 두 그룹을 더 잘 구별할 수 있을 것 같다."
   ]
  },
  {
   "cell_type": "markdown",
   "metadata": {},
   "source": [
    "# 2. Plot the estimated parameters"
   ]
  },
  {
   "cell_type": "code",
   "execution_count": 6,
   "metadata": {},
   "outputs": [],
   "source": [
    "def sigmoid(X, theta):\n",
    "    value = 1 / (1 + np.exp(-X.dot(theta)))\n",
    "    return value"
   ]
  },
  {
   "cell_type": "code",
   "execution_count": 7,
   "metadata": {},
   "outputs": [],
   "source": [
    "def logistic_regression(X, Y):\n",
    "    # 데이터 타입 정리\n",
    "    m = len(Y)\n",
    "    X = np.hstack((np.ones((m, 1)), X))\n",
    "    Y = np.array(Y).reshape(-1, 1)\n",
    "    \n",
    "    # learning parameters\n",
    "    learning_rate = np.array([0.01, 0.001, 0.001]).reshape(-1, 1)\n",
    "    # 학습률을 똑같이 하니까 어떤건 발산하고 어떤건 수렴하길래 다르게 놓음\n",
    "    error_bound = 10**(-6)\n",
    "    critical_value = 0.5\n",
    "    delta = 10**(-7) # 로그 안에 0보다 큰 수가 들어가지 않게 하기 위해 설정\n",
    "\n",
    "    # setting for learning\n",
    "    temp_theta = np.random.randn(3, 1)\n",
    "    temp_sigmoid = sigmoid(X, temp_theta)\n",
    "    temp_loss = np.sum(-Y * np.log(temp_sigmoid + delta) - (1-Y) * np.log(1-temp_sigmoid + delta)) / m\n",
    "\n",
    "    record_theta = temp_theta.T\n",
    "    record_loss = [float(temp_loss)]\n",
    "    \n",
    "    # predict\n",
    "    temp_predict = np.where(temp_sigmoid >= critical_value, 1, 0).reshape(-1, 1)\n",
    "    record_accuracy = [np.mean(temp_predict == Y)]\n",
    "    \n",
    "    # model learning\n",
    "    while True:\n",
    "        # calculate gradient\n",
    "        gradient = np.dot(X.T, temp_sigmoid - Y) / m\n",
    "        \n",
    "        # renew the parameters, calculate loss to evaluate the parameters\n",
    "        temp_theta = temp_theta - learning_rate * gradient\n",
    "        temp_sigmoid = sigmoid(X, temp_theta)\n",
    "        temp_loss = np.sum(-Y * np.log(temp_sigmoid + delta) - (1-Y) * np.log(1-temp_sigmoid + delta)) / m\n",
    "        \n",
    "        # store results\n",
    "        record_theta = np.vstack((record_theta, temp_theta.T))\n",
    "        record_loss.append(float(temp_loss))\n",
    "        temp_predict = np.where(temp_sigmoid >= critical_value, 1, 0).reshape(-1, 1)\n",
    "        record_accuracy.append(np.mean(temp_predict == Y))\n",
    "\n",
    "        # stopping rule\n",
    "        if len(record_loss) > 200000 and record_loss[-2] - record_loss[-1] < error_bound:\n",
    "            break\n",
    "    \n",
    "    result_theta = record_theta[-1, :]\n",
    "    fitted_value = temp_predict\n",
    "    \n",
    "    return result_theta, fitted_value, record_theta, record_loss, record_accuracy"
   ]
  },
  {
   "cell_type": "code",
   "execution_count": 8,
   "metadata": {},
   "outputs": [
    {
     "name": "stdout",
     "output_type": "stream",
     "text": [
      "학습하는데 걸린 시간은 187.01310873031616초입니다.\n"
     ]
    }
   ],
   "source": [
    "import time\n",
    "start = time.time()\n",
    "result_theta, fitted_value, record_theta, record_loss, record_accuracy = logistic_regression(X, Y)\n",
    "print('학습하는데 걸린 시간은 {}초입니다.'.format(time.time() - start))"
   ]
  },
  {
   "cell_type": "code",
   "execution_count": 9,
   "metadata": {},
   "outputs": [
    {
     "name": "stdout",
     "output_type": "stream",
     "text": [
      " 학습 결과 출력 \n",
      " 최종 세타 값 : [-17.51973757   0.14519309   0.13963166] \n",
      " 최종 loss : 0.21520926748801897 \n",
      " 한 단계 반복에서 loss 감소량 : 1.290706957701726e-07 \n",
      " 최종 정확도 : 0.89\n"
     ]
    }
   ],
   "source": [
    "print(' 학습 결과 출력 \\n 최종 세타 값 : {} \\n 최종 loss : {} \\n 한 단계 반복에서 loss 감소량 : {} \\n 최종 정확도 : {}'.format(\n",
    "    result_theta, record_loss[-1], record_loss[-2] - record_loss[-1], record_accuracy[-1]))"
   ]
  },
  {
   "cell_type": "markdown",
   "metadata": {},
   "source": [
    "한 번 더 반복했을 때 loss 감소량이 충분히 작은 것으로 보아 loss가 수렴하여 모델 학습이 잘 된 것을 확인할 수 있다."
   ]
  },
  {
   "cell_type": "code",
   "execution_count": 10,
   "metadata": {},
   "outputs": [
    {
     "data": {
      "image/png": "[encoded data removed]",
      "text/plain": [
       "<Figure size 864x288 with 1 Axes>"
      ]
     },
     "metadata": {
      "needs_background": "light"
     },
     "output_type": "display_data"
    }
   ],
   "source": [
    "# plot the estimated parameters\n",
    "\n",
    "plt.figure(figsize=(12, 4))\n",
    "plt.plot(record_theta[:, 0], 'r', label='theta0')\n",
    "plt.plot(record_theta[:, 1], 'g', label='theta1')\n",
    "plt.plot(record_theta[:, 2], 'b', label='theta2')\n",
    "plt.title('Plot of the estimated parameters', fontsize=20)\n",
    "plt.legend(loc='best')\n",
    "plt.show()"
   ]
  },
  {
   "cell_type": "code",
   "execution_count": 11,
   "metadata": {},
   "outputs": [
    {
     "data": {
      "image/png": "[encoded data removed]",
      "text/plain": [
       "<Figure size 864x288 with 1 Axes>"
      ]
     },
     "metadata": {
      "needs_background": "light"
     },
     "output_type": "display_data"
    }
   ],
   "source": [
    "# y축의 범위가 달라서 잘 안보이길래 theta1, theta2만 따로 출력\n",
    "\n",
    "plt.figure(figsize=(12, 4))\n",
    "plt.plot(record_theta[:, 1], 'g', label='theta1')\n",
    "plt.plot(record_theta[:, 2], 'b', label='theta2')\n",
    "plt.title('Plot of theta1 and theta2', fontsize=20)\n",
    "plt.show()"
   ]
  },
  {
   "cell_type": "markdown",
   "metadata": {},
   "source": [
    "# 3. Plot the training error"
   ]
  },
  {
   "cell_type": "code",
   "execution_count": 15,
   "metadata": {},
   "outputs": [
    {
     "data": {
      "image/png": "[encoded data removed]",
      "text/plain": [
       "<Figure size 1152x360 with 2 Axes>"
      ]
     },
     "metadata": {
      "needs_background": "light"
     },
     "output_type": "display_data"
    }
   ],
   "source": [
    "# 왼쪽은 train loss plot, 오른쪽은 정확도 plot\n",
    "\n",
    "plt.figure(figsize=(16, 5))\n",
    "plt.subplot(121)\n",
    "plt.plot(record_loss, 'b')\n",
    "plt.title('train loss plot')\n",
    "plt.subplot(122)\n",
    "plt.plot(record_accuracy, 'b')\n",
    "plt.title('accuracy plot')\n",
    "plt.show()"
   ]
  },
  {
   "cell_type": "markdown",
   "metadata": {},
   "source": [
    "train loss plot의 꼬리가 쭉 내려가서 더이상 감소하지 않는것으로 보아 모델 학습이 train loss가 수렴할때까지 학습했음을 확인할 수 있다.\n",
    "\n",
    "또한 accuracy plot을 통해 random initial value로 시작한 모델은 정확도가 40% 가량이었는데 학습을 마친 모델의 정확도가 90% 가량으로 모델이 학습된 후 정확도가 매우 높음을 확인할 수 있다."
   ]
  }
 ],
 "metadata": {
  "kernelspec": {
   "display_name": "Python 3",
   "language": "python",
   "name": "python3"
  },
  "language_info": {
   "codemirror_mode": {
    "name": "ipython",
    "version": 3
   },
   "file_extension": ".py",
   "mimetype": "text/x-python",
   "name": "python",
   "nbconvert_exporter": "python",
   "pygments_lexer": "ipython3",
   "version": "3.7.3"
  }
 },
 "nbformat": 4,
 "nbformat_minor": 2
}
