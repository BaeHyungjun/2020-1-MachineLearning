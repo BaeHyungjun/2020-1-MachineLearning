{
 "cells": [
  {
   "cell_type": "markdown",
   "metadata": {},
   "source": [
    "# Jupyter Notebook\n",
    "\n",
    "기본적으론 주피터 노트북을 통해 수업을 따라갈 예정이고, 많은 연산량이 필요하다고 판단되는 경우에만 코랩으로 옮겨서 실행하도록 하겠습니다.\n",
    "\n",
    "처음 수강하는 소프트웨어학부 수업, 처음 해보는 온라인 강의라 초반엔 수업을 잘 따라가지 못하고 헤맬 수도 있겠지만 열심히 해서 잘 따라가보도록 하겠습니다!!"
   ]
  },
  {
   "cell_type": "markdown",
   "metadata": {},
   "source": [
    "change my work directory as follows :"
   ]
  },
  {
   "cell_type": "code",
   "execution_count": 1,
   "metadata": {},
   "outputs": [],
   "source": [
    "import os\n",
    "\n",
    "path = 'C:\\\\Users\\\\golds\\\\Desktop\\\\중앙대학교\\\\2020-1 4학년 1학기\\\\머신러닝'\n",
    "os.chdir(path)"
   ]
  },
  {
   "cell_type": "code",
   "execution_count": 2,
   "metadata": {},
   "outputs": [
    {
     "name": "stdout",
     "output_type": "stream",
     "text": [
      " Hello, World!\n",
      " Hello, Maching Learning!\n"
     ]
    }
   ],
   "source": [
    "print(' Hello, World!\\n', 'Hello, Maching Learning!')"
   ]
  }
 ],
 "metadata": {
  "kernelspec": {
   "display_name": "Python 3",
   "language": "python",
   "name": "python3"
  },
  "language_info": {
   "codemirror_mode": {
    "name": "ipython",
    "version": 3
   },
   "file_extension": ".py",
   "mimetype": "text/x-python",
   "name": "python",
   "nbconvert_exporter": "python",
   "pygments_lexer": "ipython3",
   "version": "3.7.3"
  }
 },
 "nbformat": 4,
 "nbformat_minor": 2
}
