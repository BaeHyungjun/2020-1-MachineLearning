{
 "cells": [
  {
   "cell_type": "markdown",
   "metadata": {},
   "source": [
    "# 20152410 배형준 머신러닝 과제6"
   ]
  },
  {
   "cell_type": "code",
   "execution_count": 1,
   "metadata": {},
   "outputs": [],
   "source": [
    "# library import\n",
    "\n",
    "import numpy as np\n",
    "import pandas as pd\n",
    "import matplotlib\n",
    "import matplotlib.pyplot as plt"
   ]
  },
  {
   "cell_type": "code",
   "execution_count": 2,
   "metadata": {},
   "outputs": [],
   "source": [
    "# set my local working directory\n",
    "\n",
    "import os\n",
    "\n",
    "directory = 'C:\\\\Users\\\\golds\\\\Desktop\\\\중앙대학교\\\\2020-1 4학년 1학기\\\\머신러닝'\n",
    "os.chdir(directory)"
   ]
  },
  {
   "cell_type": "markdown",
   "metadata": {},
   "source": [
    "# 1. Plot the training data"
   ]
  },
  {
   "cell_type": "code",
   "execution_count": 3,
   "metadata": {},
   "outputs": [],
   "source": [
    "# load dataset\n",
    "\n",
    "train = pd.read_csv('./과제6/data-nonlinear.txt', header=None)\n",
    "train.columns = ['x', 'y', 'l']\n",
    "\n",
    "label_0 = train.loc[train['l'] == 0, :]\n",
    "label_1 = train.loc[train['l'] == 1, :]\n",
    "\n",
    "X = np.array(train[['x', 'y']])\n",
    "Y = np.array(train['l']).reshape(-1, 1)"
   ]
  },
  {
   "cell_type": "code",
   "execution_count": 4,
   "metadata": {},
   "outputs": [
    {
     "data": {
      "image/png": "[encoded data removed]",
      "text/plain": [
       "<Figure size 576x576 with 1 Axes>"
      ]
     },
     "metadata": {
      "needs_background": "light"
     },
     "output_type": "display_data"
    }
   ],
   "source": [
    "# scatter plot with different colors for each label\n",
    "\n",
    "plt.figure(figsize=(8, 8))\n",
    "plt.plot(label_0.x, label_0.y, 'bo')\n",
    "plt.plot(label_1.x, label_1.y, 'ro')\n",
    "plt.xlim((-1, 1.2))\n",
    "plt.ylim((-1, 1.2))\n",
    "plt.title('Scatter plot with different colors for each label', fontsize=18)\n",
    "plt.show()"
   ]
  },
  {
   "cell_type": "markdown",
   "metadata": {},
   "source": [
    "직선으로는 두 집단을 명확하게 구분할 수 없는 것을 시각적으로 확인할 수 있다. 빨간색 점들을 안쪽에, 파란색 점들을 바깥쪽에 위치시킬 수 있는 적절한 구분선이 필요해보인다. 최대 16개의 변수를 사용할 수 있으므로 15개의 항이 필요한 4차 다항 로지스틱 회귀를 사용하려고 한다."
   ]
  },
  {
   "cell_type": "markdown",
   "metadata": {},
   "source": [
    "# 2. Write down the high dimensional function $g(x, y, \\theta)$"
   ]
  },
  {
   "cell_type": "markdown",
   "metadata": {},
   "source": [
    "$f_0(x, y) = 1$\n",
    "\n",
    "$f_1(x, y) = x^1$\n",
    "\n",
    "$f_2(x, y) = x^2$\n",
    "\n",
    "$f_3(x, y) = x^3$\n",
    "\n",
    "$f_4(x, y) = x^4$\n",
    "\n",
    "$f_5(x, y) = y^1$\n",
    "\n",
    "$f_6(x, y) = x^1y^1$\n",
    "\n",
    "$f_7(x, y) = x^2y^1$\n",
    "\n",
    "$f_8(x, y) = x^3y^1$\n",
    "\n",
    "$f_9(x, y) = y^2$\n",
    "\n",
    "$f_{10}(x, y) = x^1y^2$\n",
    "\n",
    "$f_{11}(x, y) = x^2y^2$\n",
    "\n",
    "$f_{12}(x, y) = y^3$\n",
    "\n",
    "$f_{13}(x, y) = x^1y^3$\n",
    "\n",
    "$f_{14}(x, y) = y^4$\n",
    "\n",
    "$z = g(x, y, \\theta) = \\sum_{i=0}^{14}\\theta_if_i(x, y) = \\theta_0f_0(x, y) + \\theta_1f_1(x, y) + \\cdots + \\theta_{14}f_{14}(x, y)$\n",
    "\n",
    "$\\sigma(z) = \\frac{1}{1 + exp(-z)}$"
   ]
  },
  {
   "cell_type": "code",
   "execution_count": 18,
   "metadata": {},
   "outputs": [],
   "source": [
    "# 이제까지 def로만 해봤는데 class로도 해보고 싶어서 새로운 시도를 한다!\n",
    "\n",
    "class polynomial_logistic_regression:\n",
    "    def __init__(self, learning_rate=0.01, error_bound=10**(-8), critical_value=0.5, iteration=100000, polynomial_degree=4):\n",
    "        self.learning_rate = learning_rate\n",
    "        self.error_bound = error_bound\n",
    "        self.critical_value = critical_value\n",
    "        self.iteration = iteration\n",
    "        self.polynomial_degree = polynomial_degree\n",
    "        \n",
    "        self.coef_ = 0\n",
    "        self.record_coef = 0\n",
    "        self.record_cost = []\n",
    "        self.record_accuracy = []\n",
    "        \n",
    "    def sigmoid(self, X, theta):\n",
    "        z = np.dot(X, theta)\n",
    "        return 1 / (1 + np.exp(-z))\n",
    "    \n",
    "    def cost(self, sigma, label):\n",
    "        delta = 10**(-10)\n",
    "        value = - np.mean(label * np.log(sigma + delta) + (1 - label) * np.log(1 - sigma + delta)) \n",
    "        return value\n",
    "    \n",
    "    def make_polynomial(self, X, polynomial_degree):\n",
    "        X = np.array(X)\n",
    "        degree = []\n",
    "        for j in range(polynomial_degree+1):\n",
    "            for i in range(polynomial_degree+1):\n",
    "                if j + i <= polynomial_degree:\n",
    "                    degree.append((i, j))\n",
    "        \n",
    "        name = ['x{}y{}'.format(degree[i][0], degree[i][1]) for i in range(len(degree))]\n",
    "        poly = np.zeros((X.shape[0], len(degree)))\n",
    "        \n",
    "        for i in range(len(degree)):\n",
    "            poly[:, i] = X[:, 0]**(degree[i][0]) * X[:, 1]**(degree[i][1])\n",
    "        \n",
    "        return pd.DataFrame(poly, columns=name)\n",
    "        \n",
    "    def fit(self, X, Y):\n",
    "        X = np.array(self.make_polynomial(X, self.polynomial_degree))\n",
    "        Y = np.array(Y).reshape(-1, 1)\n",
    "        n = X.shape[0]\n",
    "        p = X.shape[1]\n",
    "        \n",
    "        theta = np.zeros((p, 1))\n",
    "        self.record_coef = theta.T\n",
    "        \n",
    "        sigma = self.sigmoid(X, theta)\n",
    "        cost = self.cost(sigma, Y)\n",
    "        self.record_cost.append(float(cost))\n",
    "        \n",
    "        predict = np.where(sigma >= self.critical_value, 1, 0).reshape(-1, 1)\n",
    "        accuracy = np.mean(predict == Y)\n",
    "        self.record_accuracy.append(accuracy)\n",
    "        \n",
    "        import time\n",
    "        start = time.time()\n",
    "        \n",
    "        # model fitting\n",
    "        while True:\n",
    "            # calculate gradient\n",
    "            gradient = np.dot(X.T, sigma - Y) / n\n",
    "        \n",
    "            # renew the parameters, calculate cost to evaluate the parameters\n",
    "            theta = theta - self.learning_rate * gradient\n",
    "            sigma = self.sigmoid(X, theta)\n",
    "            cost = self.cost(sigma, Y)\n",
    "        \n",
    "            # store results\n",
    "            self.record_coef = np.vstack((self.record_coef, theta.T))\n",
    "            self.record_cost.append(float(cost))\n",
    "            \n",
    "            predict = np.where(sigma >= self.critical_value, 1, 0).reshape(-1, 1)\n",
    "            accuracy = np.mean(predict == Y)\n",
    "            self.record_accuracy.append(accuracy)\n",
    "\n",
    "            # stopping rules\n",
    "            if len(self.record_cost) > self.iteration and self.record_cost[-2] - self.record_cost[-1] < self.error_bound:\n",
    "                break\n",
    "            \n",
    "            # print model fitting process\n",
    "            if len(self.record_cost) % 20000 == 0:\n",
    "                print('Running time : {}s, Iter : {}, Cost : {}'.format(round(time.time() - start), len(self.record_cost), cost))\n",
    "            \n",
    "            # error situation\n",
    "            if len(self.record_cost) > 300000:\n",
    "                print('반복 횟수가 너무 많습니다. cost가 수렴하지 않은 상태로 학습을 종료합니다. 학습률을 조정해보시기 바랍니다.')\n",
    "                break\n",
    "        \n",
    "        self.coef_ = self.record_coef[-1, :].T\n",
    "        \n",
    "        return self\n",
    "        \n",
    "    def predict_probability(self, X):\n",
    "        X = np.array(self.make_polynomial(X, self.polynomial_degree))\n",
    "        return self.sigmoid(X, self.coef_).reshape(-1, 1)\n",
    "    \n",
    "    def predict_label(self, X):\n",
    "        X = np.array(self.make_polynomial(X, self.polynomial_degree))\n",
    "        value = self.sigmoid(X, self.coef_)\n",
    "        predict = np.where(value >= self.critical_value, 1, 0).reshape(-1, 1)\n",
    "        return predict.reshape(-1, 1)"
   ]
  },
  {
   "cell_type": "code",
   "execution_count": 27,
   "metadata": {},
   "outputs": [],
   "source": [
    "model = polynomial_logistic_regression(learning_rate=1,\n",
    "                                       error_bound=10**(-7),\n",
    "                                       critical_value=0.5,\n",
    "                                       iteration=100000,\n",
    "                                       polynomial_degree=4)"
   ]
  },
  {
   "cell_type": "code",
   "execution_count": 28,
   "metadata": {},
   "outputs": [
    {
     "name": "stdout",
     "output_type": "stream",
     "text": [
      "Running time : 18s, Iter : 20000, Cost : 0.3265207718964538\n",
      "Running time : 77s, Iter : 40000, Cost : 0.3255039619964917\n",
      "Running time : 169s, Iter : 60000, Cost : 0.32500786959529443\n",
      "Running time : 293s, Iter : 80000, Cost : 0.32462273581677104\n",
      "Running time : 439s, Iter : 100000, Cost : 0.3242958527227771\n"
     ]
    },
    {
     "data": {
      "text/plain": [
       "<__main__.polynomial_logistic_regression at 0x1230daf6048>"
      ]
     },
     "execution_count": 28,
     "metadata": {},
     "output_type": "execute_result"
    }
   ],
   "source": [
    "model.fit(X, Y)"
   ]
  },
  {
   "cell_type": "markdown",
   "metadata": {},
   "source": [
    "# 3. Plot the training error"
   ]
  },
  {
   "cell_type": "code",
   "execution_count": 59,
   "metadata": {},
   "outputs": [
    {
     "data": {
      "image/png": "[encoded data removed]",
      "text/plain": [
       "<Figure size 864x288 with 1 Axes>"
      ]
     },
     "metadata": {
      "needs_background": "light"
     },
     "output_type": "display_data"
    }
   ],
   "source": [
    "plt.figure(figsize=(12, 4))\n",
    "plt.plot(model.record_cost, 'b-')\n",
    "plt.title('Train error', fontsize=20)\n",
    "plt.xlabel('iteration')\n",
    "plt.ylabel('train error')\n",
    "plt.text(len(model.record_cost) - 3000, 0.34, '0.324', fontsize=15)\n",
    "plt.show()"
   ]
  },
  {
   "cell_type": "markdown",
   "metadata": {},
   "source": [
    "반복 수 10000회 정도를 지나서 안정적으로 수렴한 모습을 확인할 수 있다. 10000회 정도만 지나도 수렴했다고 말할 수 있지만 학습 정지 조건을\n",
    "\n",
    "1) 최소 반복수는 100000회\n",
    "\n",
    "2) 한 번 더 반복했을 때 cost가 $10^{-7}$ 이하로 감소\n",
    "\n",
    "하는 것으로 설정하였기 때문에 10000회에서 멈추지 않고 학습을 이어나갔다."
   ]
  },
  {
   "cell_type": "markdown",
   "metadata": {},
   "source": [
    "# 4. Plot the training accuracy"
   ]
  },
  {
   "cell_type": "code",
   "execution_count": 60,
   "metadata": {},
   "outputs": [
    {
     "data": {
      "image/png": "[encoded data removed]",
      "text/plain": [
       "<Figure size 864x288 with 1 Axes>"
      ]
     },
     "metadata": {
      "needs_background": "light"
     },
     "output_type": "display_data"
    }
   ],
   "source": [
    "plt.figure(figsize=(12, 4))\n",
    "plt.plot(model.record_accuracy, 'r-')\n",
    "plt.title('Model train accuracy', fontsize=20)\n",
    "plt.xlabel('iteration')\n",
    "plt.ylabel('accuracy')\n",
    "plt.text(len(model.record_accuracy) - 3000, 0.845, '0.838', fontsize=15)\n",
    "plt.show()"
   ]
  },
  {
   "cell_type": "markdown",
   "metadata": {},
   "source": [
    "Train error plot에 확인했듯이 반복 수가 10000회 이상 넘어가면 accuracy가 수렴한다."
   ]
  },
  {
   "cell_type": "markdown",
   "metadata": {},
   "source": [
    "# 5. Write down the final training accuracy"
   ]
  },
  {
   "cell_type": "code",
   "execution_count": 63,
   "metadata": {},
   "outputs": [
    {
     "name": "stdout",
     "output_type": "stream",
     "text": [
      " Model fitting result \n",
      " iteration : 100001 \n",
      " train error : 0.3243 \n",
      " train accuracy : 0.83898\n"
     ]
    }
   ],
   "source": [
    "print(' Model fitting result \\n iteration : {} \\n train error : {} \\n train accuracy : {}'.format(\n",
    "    len(model.record_cost), round(model.record_cost[-1], 5), round(model.record_accuracy[-1], 5)))"
   ]
  }
 ],
 "metadata": {
  "kernelspec": {
   "display_name": "Python 3",
   "language": "python",
   "name": "python3"
  },
  "language_info": {
   "codemirror_mode": {
    "name": "ipython",
    "version": 3
   },
   "file_extension": ".py",
   "mimetype": "text/x-python",
   "name": "python",
   "nbconvert_exporter": "python",
   "pygments_lexer": "ipython3",
   "version": "3.7.3"
  }
 },
 "nbformat": 4,
 "nbformat_minor": 2
}
