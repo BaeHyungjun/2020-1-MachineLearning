{
 "cells": [
  {
   "cell_type": "markdown",
   "metadata": {},
   "source": [
    "# 20152410 배형준 머신러닝 과제9"
   ]
  },
  {
   "cell_type": "code",
   "execution_count": 1,
   "metadata": {},
   "outputs": [],
   "source": [
    "# library import\n",
    "\n",
    "import numpy as np\n",
    "import pandas as pd\n",
    "import matplotlib\n",
    "import matplotlib.pyplot as plt"
   ]
  },
  {
   "cell_type": "code",
   "execution_count": 2,
   "metadata": {},
   "outputs": [],
   "source": [
    "# set my local working directory\n",
    "\n",
    "import os\n",
    "\n",
    "directory = 'C:\\\\Users\\\\golds\\\\Desktop\\\\중앙대학교\\\\2020-1 4학년 1학기\\\\머신러닝'\n",
    "os.chdir(directory)"
   ]
  },
  {
   "cell_type": "code",
   "execution_count": 3,
   "metadata": {},
   "outputs": [
    {
     "data": {
      "text/html": [
       "<div>\n",
       "<style scoped>\n",
       "    .dataframe tbody tr th:only-of-type {\n",
       "        vertical-align: middle;\n",
       "    }\n",
       "\n",
       "    .dataframe tbody tr th {\n",
       "        vertical-align: top;\n",
       "    }\n",
       "\n",
       "    .dataframe thead th {\n",
       "        text-align: right;\n",
       "    }\n",
       "</style>\n",
       "<table border=\"1\" class=\"dataframe\">\n",
       "  <thead>\n",
       "    <tr style=\"text-align: right;\">\n",
       "      <th></th>\n",
       "      <th>0</th>\n",
       "      <th>1</th>\n",
       "      <th>2</th>\n",
       "      <th>3</th>\n",
       "      <th>4</th>\n",
       "      <th>5</th>\n",
       "      <th>6</th>\n",
       "      <th>7</th>\n",
       "      <th>8</th>\n",
       "      <th>9</th>\n",
       "      <th>...</th>\n",
       "      <th>775</th>\n",
       "      <th>776</th>\n",
       "      <th>777</th>\n",
       "      <th>778</th>\n",
       "      <th>779</th>\n",
       "      <th>780</th>\n",
       "      <th>781</th>\n",
       "      <th>782</th>\n",
       "      <th>783</th>\n",
       "      <th>784</th>\n",
       "    </tr>\n",
       "  </thead>\n",
       "  <tbody>\n",
       "    <tr>\n",
       "      <th>0</th>\n",
       "      <td>7</td>\n",
       "      <td>0</td>\n",
       "      <td>0</td>\n",
       "      <td>0</td>\n",
       "      <td>0</td>\n",
       "      <td>0</td>\n",
       "      <td>0</td>\n",
       "      <td>0</td>\n",
       "      <td>0</td>\n",
       "      <td>0</td>\n",
       "      <td>...</td>\n",
       "      <td>0</td>\n",
       "      <td>0</td>\n",
       "      <td>0</td>\n",
       "      <td>0</td>\n",
       "      <td>0</td>\n",
       "      <td>0</td>\n",
       "      <td>0</td>\n",
       "      <td>0</td>\n",
       "      <td>0</td>\n",
       "      <td>0</td>\n",
       "    </tr>\n",
       "    <tr>\n",
       "      <th>1</th>\n",
       "      <td>2</td>\n",
       "      <td>0</td>\n",
       "      <td>0</td>\n",
       "      <td>0</td>\n",
       "      <td>0</td>\n",
       "      <td>0</td>\n",
       "      <td>0</td>\n",
       "      <td>0</td>\n",
       "      <td>0</td>\n",
       "      <td>0</td>\n",
       "      <td>...</td>\n",
       "      <td>0</td>\n",
       "      <td>0</td>\n",
       "      <td>0</td>\n",
       "      <td>0</td>\n",
       "      <td>0</td>\n",
       "      <td>0</td>\n",
       "      <td>0</td>\n",
       "      <td>0</td>\n",
       "      <td>0</td>\n",
       "      <td>0</td>\n",
       "    </tr>\n",
       "    <tr>\n",
       "      <th>2</th>\n",
       "      <td>1</td>\n",
       "      <td>0</td>\n",
       "      <td>0</td>\n",
       "      <td>0</td>\n",
       "      <td>0</td>\n",
       "      <td>0</td>\n",
       "      <td>0</td>\n",
       "      <td>0</td>\n",
       "      <td>0</td>\n",
       "      <td>0</td>\n",
       "      <td>...</td>\n",
       "      <td>0</td>\n",
       "      <td>0</td>\n",
       "      <td>0</td>\n",
       "      <td>0</td>\n",
       "      <td>0</td>\n",
       "      <td>0</td>\n",
       "      <td>0</td>\n",
       "      <td>0</td>\n",
       "      <td>0</td>\n",
       "      <td>0</td>\n",
       "    </tr>\n",
       "    <tr>\n",
       "      <th>3</th>\n",
       "      <td>0</td>\n",
       "      <td>0</td>\n",
       "      <td>0</td>\n",
       "      <td>0</td>\n",
       "      <td>0</td>\n",
       "      <td>0</td>\n",
       "      <td>0</td>\n",
       "      <td>0</td>\n",
       "      <td>0</td>\n",
       "      <td>0</td>\n",
       "      <td>...</td>\n",
       "      <td>0</td>\n",
       "      <td>0</td>\n",
       "      <td>0</td>\n",
       "      <td>0</td>\n",
       "      <td>0</td>\n",
       "      <td>0</td>\n",
       "      <td>0</td>\n",
       "      <td>0</td>\n",
       "      <td>0</td>\n",
       "      <td>0</td>\n",
       "    </tr>\n",
       "    <tr>\n",
       "      <th>4</th>\n",
       "      <td>4</td>\n",
       "      <td>0</td>\n",
       "      <td>0</td>\n",
       "      <td>0</td>\n",
       "      <td>0</td>\n",
       "      <td>0</td>\n",
       "      <td>0</td>\n",
       "      <td>0</td>\n",
       "      <td>0</td>\n",
       "      <td>0</td>\n",
       "      <td>...</td>\n",
       "      <td>0</td>\n",
       "      <td>0</td>\n",
       "      <td>0</td>\n",
       "      <td>0</td>\n",
       "      <td>0</td>\n",
       "      <td>0</td>\n",
       "      <td>0</td>\n",
       "      <td>0</td>\n",
       "      <td>0</td>\n",
       "      <td>0</td>\n",
       "    </tr>\n",
       "  </tbody>\n",
       "</table>\n",
       "<p>5 rows × 785 columns</p>\n",
       "</div>"
      ],
      "text/plain": [
       "   0    1    2    3    4    5    6    7    8    9    ...  775  776  777  778  \\\n",
       "0    7    0    0    0    0    0    0    0    0    0  ...    0    0    0    0   \n",
       "1    2    0    0    0    0    0    0    0    0    0  ...    0    0    0    0   \n",
       "2    1    0    0    0    0    0    0    0    0    0  ...    0    0    0    0   \n",
       "3    0    0    0    0    0    0    0    0    0    0  ...    0    0    0    0   \n",
       "4    4    0    0    0    0    0    0    0    0    0  ...    0    0    0    0   \n",
       "\n",
       "   779  780  781  782  783  784  \n",
       "0    0    0    0    0    0    0  \n",
       "1    0    0    0    0    0    0  \n",
       "2    0    0    0    0    0    0  \n",
       "3    0    0    0    0    0    0  \n",
       "4    0    0    0    0    0    0  \n",
       "\n",
       "[5 rows x 785 columns]"
      ]
     },
     "execution_count": 3,
     "metadata": {},
     "output_type": "execute_result"
    }
   ],
   "source": [
    "# load dataset\n",
    "\n",
    "filename = './과제9/mnist.csv'\n",
    "mnist = pd.read_csv(filename, header=None)\n",
    "mnist.head()"
   ]
  },
  {
   "cell_type": "code",
   "execution_count": 4,
   "metadata": {},
   "outputs": [],
   "source": [
    "# convert data type from pd.DataFrame to np.array\n",
    "\n",
    "label = np.array(mnist.iloc[:, 0]).reshape(-1, 1)\n",
    "data = np.array(mnist.iloc[:, 1:])"
   ]
  },
  {
   "cell_type": "markdown",
   "metadata": {},
   "source": [
    "## Implement Normalization class\n",
    "\n",
    "행 방향으로 정규화 : 한 행에서 (하나의 숫자 그림에서) 가장 작은 값이 0, 가장 큰 값이 1이 되도록 변환"
   ]
  },
  {
   "cell_type": "code",
   "execution_count": 5,
   "metadata": {},
   "outputs": [],
   "source": [
    "# make class 'minmaxscaler'\n",
    "\n",
    "class minmaxscaler:\n",
    "    \n",
    "    def __init__(self):\n",
    "        self.min_value = 0\n",
    "        self.max_value = 0\n",
    "        \n",
    "    def fit(self, X):\n",
    "        X = np.array(X)\n",
    "        self.min_value = np.min(X, axis=1)\n",
    "        self.max_value = np.where(np.max(X, axis=1) == 0, 1, np.max(X, axis=1))\n",
    "        # 행 별 최대 최소, 열 방향으로\n",
    "        \n",
    "        return self\n",
    "    \n",
    "    def transform(self, X):\n",
    "        X = np.array(X)\n",
    "        scaled = np.zeros(X.shape)\n",
    "        \n",
    "        for j in range(X.shape[0]):\n",
    "            scaled[j, :] = (X[j, :] - self.min_value[j]) / (self.max_value[j] - self.min_value[j])\n",
    "        \n",
    "        return scaled"
   ]
  },
  {
   "cell_type": "code",
   "execution_count": 6,
   "metadata": {},
   "outputs": [],
   "source": [
    "minmax_scaler_model = minmaxscaler()\n",
    "minmax_scaler_model.fit(data)\n",
    "data_scaled = minmax_scaler_model.transform(data)"
   ]
  },
  {
   "cell_type": "markdown",
   "metadata": {},
   "source": [
    "## Implement Onehotencoding class"
   ]
  },
  {
   "cell_type": "code",
   "execution_count": 7,
   "metadata": {},
   "outputs": [],
   "source": [
    "class onehotencoding:\n",
    "    \n",
    "    def __init__(self):\n",
    "        self.unique = 0\n",
    "    \n",
    "    def fit(self, X):\n",
    "        X = np.array(X)\n",
    "        self.unique = np.unique(X)\n",
    "        \n",
    "        return self\n",
    "    \n",
    "    def transform(self, X):\n",
    "        X = np.array(X)\n",
    "        m = X.shape[0]\n",
    "        n = self.unique.shape[0]\n",
    "    \n",
    "        empty = np.zeros((m, n))\n",
    "        \n",
    "        for i in range(m):\n",
    "            for j in range(n):\n",
    "                if X[i] == self.unique[j]:\n",
    "                    empty[i, j] = 1\n",
    "        \n",
    "        return empty"
   ]
  },
  {
   "cell_type": "code",
   "execution_count": 8,
   "metadata": {},
   "outputs": [],
   "source": [
    "onehot_model = onehotencoding()\n",
    "onehot_model.fit(label)\n",
    "label_onehot = onehot_model.transform(label)"
   ]
  },
  {
   "cell_type": "markdown",
   "metadata": {},
   "source": [
    "## Split trainset and testset"
   ]
  },
  {
   "cell_type": "code",
   "execution_count": 9,
   "metadata": {},
   "outputs": [],
   "source": [
    "label_onehot_train = label_onehot[:6000, :]\n",
    "label_onehot_test = label_onehot[6000:, :]\n",
    "\n",
    "data_scaled_train = data_scaled[:6000, :]\n",
    "data_scaled_test = data_scaled[6000:, :]"
   ]
  },
  {
   "cell_type": "markdown",
   "metadata": {},
   "source": [
    "## Implement neural network"
   ]
  },
  {
   "cell_type": "code",
   "execution_count": null,
   "metadata": {},
   "outputs": [],
   "source": [
    "class neural_network:\n",
    "\n",
    "    def __init__(self, learning_rate, error_bound, iteration, hidden_layer, number_node, fit_intercept):\n",
    "        self.learning_rate = learning_rate\n",
    "        self.error_bound = error_bound\n",
    "        self.iteration = iteration\n",
    "        \n",
    "        self.hidden_layer = hidden_layer # int\n",
    "        self.number_node = number_node # list of int\n",
    "        self.fit_intercept = fit_intercept # True or False\n",
    "        \n",
    "        self.coef_ = []\n",
    "        self.record_train_cost = []\n",
    "        self.record_test_cost = []\n",
    "        self.record_train_accuracy = []\n",
    "        self.record_test_accuracy = []\n",
    "    \n",
    "    def sigmoid(self, X, coef):\n",
    "        z = np.dot(X, coef)\n",
    "        sigmoid_value = 1 / (1 + np.exp(-z))\n",
    "        \n",
    "        return sigmoid_value\n",
    "    \n",
    "    def cost(self, X, coef_list, label):\n",
    "        delta = 10**(-10)\n",
    "        temp = X\n",
    "        \n",
    "        for coef in coef_list:\n",
    "            sig = self.sigmoid(temp, coef)\n",
    "            temp = sig\n",
    "        \n",
    "        cost_value = -np.mean(np.sum(label * np.log(sig + delta) + (1 - label) * np.log(1 - sig + delta), axis=1))\n",
    "        \n",
    "        return cost_value\n",
    "    \n",
    "    def predict(self, X, coef_list):\n",
    "        temp = X\n",
    "        \n",
    "        for coef in coef_list:\n",
    "            sig = self.sigmoid(temp, coef)\n",
    "            temp = sig\n",
    "        \n",
    "        predict_value = np.argmax(sig, axis=1)\n",
    "        \n",
    "        return predict_value\n",
    "    \n",
    "    def predict_probability(self, X, coef_list):\n",
    "        temp = X\n",
    "        \n",
    "        for coef in coef_list:\n",
    "            sig = self.sigmoid(temp, coef)\n",
    "            temp = sig\n",
    "        \n",
    "        return sig\n",
    "    \n",
    "    def fit(self, X_train, Y_train, X_test, Y_test): # Y_train, Y_test는 onehotencoding이 완료된 데이터\n",
    "        X_train = np.array(X_train)\n",
    "        Y_train = np.array(Y_train)\n",
    "        m = X_train.shape[0]\n",
    "        n = X_train.shape[1]\n",
    "        q = X_test.shape[0]\n",
    "        p = Y_train.shape[1]\n",
    "        label_train = np.argmax(Y_train, axis=1) # 정확도를 확인하기 위한 기존 label\n",
    "        label_test = np.argmax(Y_test, axis=1)\n",
    "        \n",
    "        self.number_node.insert(0, n)\n",
    "        self.number_node.append(p)\n",
    "        coef_ = []\n",
    "        \n",
    "        # fit_intercept\n",
    "        if self.fit_intercept == True:\n",
    "            X_train = np.column_stack(np.ones((m, 1)), X_train)\n",
    "            X_test = np.column_stack(np.ones((q, 1)), X_test)\n",
    "            \n",
    "            number_node_with_intercept = []\n",
    "            for number in self.number_node:\n",
    "                number_node_with_intercept.append(number+1)\n",
    "                \n",
    "        else:\n",
    "            number_node_with_intercept = self.number_node\n",
    "        \n",
    "        # set initial parameters\n",
    "        for layer in range(self.hidden_layer + 1):\n",
    "            temp_theta = np.random.randn(number_node_with_intercept[layer], self.number_node[layer+1])\n",
    "            coef_.append(temp_theta)\n",
    "        \n",
    "        # model fitting\n",
    "        while True:\n",
    "            # calculate train and test cost\n",
    "            train_cost_value = self.cost(X_train, coef_, Y_train)\n",
    "            test_cost_value = self.cost(X_test, coef_, Y_test)\n",
    "            \n",
    "            self.record_train_cost.append(train_cost_value)\n",
    "            self.record_test_cost.append(test_cost_value)\n",
    "            \n",
    "            # calculate train and test accuracy\n",
    "            train_predict = self.predict(X_train, coef_)\n",
    "            test_predict = self.predict(X_test, coef_)\n",
    "            \n",
    "            train_accuarcy = np.mean(train_predict == label_train)\n",
    "            test_accuarcy = np.mean(test_predict == label_test)\n",
    "            \n",
    "            self.record_train_accuracy.append(train_accuarcy)\n",
    "            self.record_test_accuracy.append(test_accuarcy)\n",
    "            \n",
    "            # calculate gradient using back propagation\n",
    "            \n",
    "            \n",
    "            \n",
    "            \n",
    "            \n",
    "            # renew the parameters\n",
    "            \n",
    "            \n",
    "            \n",
    "            \n",
    "            \n",
    "            # stopping rules\n",
    "    \n",
    "            \n",
    "            \n",
    "            \n",
    "            \n",
    "        \n",
    "                \n",
    "            \n",
    "            \n",
    "        \n",
    "    \n",
    "    \n",
    "    \n",
    "        \n",
    "        \n",
    "        "
   ]
  },
  {
   "cell_type": "code",
   "execution_count": 12,
   "metadata": {},
   "outputs": [
    {
     "ename": "TypeError",
     "evalue": "data type not understood",
     "output_type": "error",
     "traceback": [
      "\u001b[1;31m---------------------------------------------------------------------------\u001b[0m",
      "\u001b[1;31mTypeError\u001b[0m                                 Traceback (most recent call last)",
      "\u001b[1;32m<ipython-input-12-36b7bb8c5a4a>\u001b[0m in \u001b[0;36m<module>\u001b[1;34m\u001b[0m\n\u001b[1;32m----> 1\u001b[1;33m \u001b[0mtemp\u001b[0m \u001b[1;33m=\u001b[0m \u001b[0mnp\u001b[0m\u001b[1;33m.\u001b[0m\u001b[0marray\u001b[0m\u001b[1;33m(\u001b[0m\u001b[0mnp\u001b[0m\u001b[1;33m.\u001b[0m\u001b[0mones\u001b[0m\u001b[1;33m(\u001b[0m\u001b[1;33m(\u001b[0m\u001b[1;36m10000\u001b[0m\u001b[1;33m,\u001b[0m \u001b[1;36m1\u001b[0m\u001b[1;33m)\u001b[0m\u001b[1;33m)\u001b[0m\u001b[1;33m,\u001b[0m \u001b[0mdata\u001b[0m\u001b[1;33m)\u001b[0m\u001b[1;33m\u001b[0m\u001b[1;33m\u001b[0m\u001b[0m\n\u001b[0m\u001b[0;32m      2\u001b[0m \u001b[0mtemp\u001b[0m\u001b[1;33m.\u001b[0m\u001b[0mshape\u001b[0m\u001b[1;33m\u001b[0m\u001b[1;33m\u001b[0m\u001b[0m\n",
      "\u001b[1;31mTypeError\u001b[0m: data type not understood"
     ]
    }
   ],
   "source": [
    "temp = np.array(np.ones((10000, 1)), data)\n",
    "temp.shape"
   ]
  },
  {
   "cell_type": "code",
   "execution_count": 15,
   "metadata": {},
   "outputs": [
    {
     "data": {
      "text/plain": [
       "(10000, 785)"
      ]
     },
     "execution_count": 15,
     "metadata": {},
     "output_type": "execute_result"
    }
   ],
   "source": [
    "temp = np.column_stack((np.ones((10000, 1)), data))\n",
    "temp.shape"
   ]
  },
  {
   "cell_type": "code",
   "execution_count": 18,
   "metadata": {},
   "outputs": [
    {
     "data": {
      "text/plain": [
       "array([[1., 0., 0., 0., 0., 0., 0., 0., 0., 0., 0., 0., 0., 0., 0., 0.,\n",
       "        0., 0., 0., 0., 0., 0., 0., 0., 0., 0., 0., 0., 0., 0., 0., 0.,\n",
       "        0., 0., 0., 0., 0., 0., 0., 0., 0., 0., 0., 0., 0., 0., 0., 0.,\n",
       "        0., 0.],\n",
       "       [1., 0., 0., 0., 0., 0., 0., 0., 0., 0., 0., 0., 0., 0., 0., 0.,\n",
       "        0., 0., 0., 0., 0., 0., 0., 0., 0., 0., 0., 0., 0., 0., 0., 0.,\n",
       "        0., 0., 0., 0., 0., 0., 0., 0., 0., 0., 0., 0., 0., 0., 0., 0.,\n",
       "        0., 0.],\n",
       "       [1., 0., 0., 0., 0., 0., 0., 0., 0., 0., 0., 0., 0., 0., 0., 0.,\n",
       "        0., 0., 0., 0., 0., 0., 0., 0., 0., 0., 0., 0., 0., 0., 0., 0.,\n",
       "        0., 0., 0., 0., 0., 0., 0., 0., 0., 0., 0., 0., 0., 0., 0., 0.,\n",
       "        0., 0.]])"
      ]
     },
     "execution_count": 18,
     "metadata": {},
     "output_type": "execute_result"
    }
   ],
   "source": [
    "temp[:3, :50]"
   ]
  },
  {
   "cell_type": "code",
   "execution_count": 19,
   "metadata": {},
   "outputs": [
    {
     "data": {
      "text/plain": [
       "[9, 1, 2, 3]"
      ]
     },
     "execution_count": 19,
     "metadata": {},
     "output_type": "execute_result"
    }
   ],
   "source": [
    "a = [1, 2, 3]\n",
    "a.insert(0, 9)\n",
    "a"
   ]
  },
  {
   "cell_type": "code",
   "execution_count": 24,
   "metadata": {},
   "outputs": [
    {
     "data": {
      "text/plain": [
       "array([7, 2, 1, ..., 5, 1, 7], dtype=int64)"
      ]
     },
     "execution_count": 24,
     "metadata": {},
     "output_type": "execute_result"
    }
   ],
   "source": [
    "np.argmax(label_onehot_train, axis=1)"
   ]
  },
  {
   "cell_type": "code",
   "execution_count": 26,
   "metadata": {},
   "outputs": [
    {
     "data": {
      "text/plain": [
       "(6000,)"
      ]
     },
     "execution_count": 26,
     "metadata": {},
     "output_type": "execute_result"
    }
   ],
   "source": [
    "a = np.argmax(label_onehot_train, axis=1)\n",
    "a.shape"
   ]
  },
  {
   "cell_type": "code",
   "execution_count": 27,
   "metadata": {},
   "outputs": [
    {
     "data": {
      "text/plain": [
       "(4000,)"
      ]
     },
     "execution_count": 27,
     "metadata": {},
     "output_type": "execute_result"
    }
   ],
   "source": [
    "b = np.argmax(label_onehot_test, axis=1)\n",
    "b.shape"
   ]
  },
  {
   "cell_type": "code",
   "execution_count": 28,
   "metadata": {},
   "outputs": [
    {
     "data": {
      "text/plain": [
       "0.105"
      ]
     },
     "execution_count": 28,
     "metadata": {},
     "output_type": "execute_result"
    }
   ],
   "source": [
    "np.mean(a[:4000] == b)"
   ]
  }
 ],
 "metadata": {
  "kernelspec": {
   "display_name": "Python 3",
   "language": "python",
   "name": "python3"
  },
  "language_info": {
   "codemirror_mode": {
    "name": "ipython",
    "version": 3
   },
   "file_extension": ".py",
   "mimetype": "text/x-python",
   "name": "python",
   "nbconvert_exporter": "python",
   "pygments_lexer": "ipython3",
   "version": "3.7.3"
  }
 },
 "nbformat": 4,
 "nbformat_minor": 2
}
