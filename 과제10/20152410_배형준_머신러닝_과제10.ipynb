{
 "cells": [
  {
   "cell_type": "markdown",
   "metadata": {},
   "source": [
    "# 20152410 배형준 머신러닝 과제10"
   ]
  },
  {
   "cell_type": "code",
   "execution_count": 1,
   "metadata": {
    "ExecuteTime": {
     "end_time": "2020-05-31T19:17:35.453602Z",
     "start_time": "2020-05-31T19:17:33.539782Z"
    }
   },
   "outputs": [],
   "source": [
    "# library import\n",
    "\n",
    "import numpy as np\n",
    "import pandas as pd\n",
    "import matplotlib\n",
    "import matplotlib.pyplot as plt"
   ]
  },
  {
   "cell_type": "code",
   "execution_count": 2,
   "metadata": {
    "ExecuteTime": {
     "end_time": "2020-05-31T19:17:35.462591Z",
     "start_time": "2020-05-31T19:17:35.456595Z"
    }
   },
   "outputs": [],
   "source": [
    "# set my local working directory\n",
    "\n",
    "import os\n",
    "\n",
    "directory = 'C:\\\\Users\\\\golds\\\\Desktop\\\\중앙대학교\\\\2020-1 4학년 1학기\\\\머신러닝'\n",
    "os.chdir(directory)"
   ]
  },
  {
   "cell_type": "code",
   "execution_count": 3,
   "metadata": {
    "ExecuteTime": {
     "end_time": "2020-05-31T19:17:36.757128Z",
     "start_time": "2020-05-31T19:17:35.468587Z"
    }
   },
   "outputs": [
    {
     "data": {
      "text/html": [
       "<div>\n",
       "<style scoped>\n",
       "    .dataframe tbody tr th:only-of-type {\n",
       "        vertical-align: middle;\n",
       "    }\n",
       "\n",
       "    .dataframe tbody tr th {\n",
       "        vertical-align: top;\n",
       "    }\n",
       "\n",
       "    .dataframe thead th {\n",
       "        text-align: right;\n",
       "    }\n",
       "</style>\n",
       "<table border=\"1\" class=\"dataframe\">\n",
       "  <thead>\n",
       "    <tr style=\"text-align: right;\">\n",
       "      <th></th>\n",
       "      <th>0</th>\n",
       "      <th>1</th>\n",
       "      <th>2</th>\n",
       "      <th>3</th>\n",
       "      <th>4</th>\n",
       "      <th>5</th>\n",
       "      <th>6</th>\n",
       "      <th>7</th>\n",
       "      <th>8</th>\n",
       "      <th>9</th>\n",
       "      <th>...</th>\n",
       "      <th>775</th>\n",
       "      <th>776</th>\n",
       "      <th>777</th>\n",
       "      <th>778</th>\n",
       "      <th>779</th>\n",
       "      <th>780</th>\n",
       "      <th>781</th>\n",
       "      <th>782</th>\n",
       "      <th>783</th>\n",
       "      <th>784</th>\n",
       "    </tr>\n",
       "  </thead>\n",
       "  <tbody>\n",
       "    <tr>\n",
       "      <th>0</th>\n",
       "      <td>7</td>\n",
       "      <td>0</td>\n",
       "      <td>0</td>\n",
       "      <td>0</td>\n",
       "      <td>0</td>\n",
       "      <td>0</td>\n",
       "      <td>0</td>\n",
       "      <td>0</td>\n",
       "      <td>0</td>\n",
       "      <td>0</td>\n",
       "      <td>...</td>\n",
       "      <td>0</td>\n",
       "      <td>0</td>\n",
       "      <td>0</td>\n",
       "      <td>0</td>\n",
       "      <td>0</td>\n",
       "      <td>0</td>\n",
       "      <td>0</td>\n",
       "      <td>0</td>\n",
       "      <td>0</td>\n",
       "      <td>0</td>\n",
       "    </tr>\n",
       "    <tr>\n",
       "      <th>1</th>\n",
       "      <td>2</td>\n",
       "      <td>0</td>\n",
       "      <td>0</td>\n",
       "      <td>0</td>\n",
       "      <td>0</td>\n",
       "      <td>0</td>\n",
       "      <td>0</td>\n",
       "      <td>0</td>\n",
       "      <td>0</td>\n",
       "      <td>0</td>\n",
       "      <td>...</td>\n",
       "      <td>0</td>\n",
       "      <td>0</td>\n",
       "      <td>0</td>\n",
       "      <td>0</td>\n",
       "      <td>0</td>\n",
       "      <td>0</td>\n",
       "      <td>0</td>\n",
       "      <td>0</td>\n",
       "      <td>0</td>\n",
       "      <td>0</td>\n",
       "    </tr>\n",
       "    <tr>\n",
       "      <th>2</th>\n",
       "      <td>1</td>\n",
       "      <td>0</td>\n",
       "      <td>0</td>\n",
       "      <td>0</td>\n",
       "      <td>0</td>\n",
       "      <td>0</td>\n",
       "      <td>0</td>\n",
       "      <td>0</td>\n",
       "      <td>0</td>\n",
       "      <td>0</td>\n",
       "      <td>...</td>\n",
       "      <td>0</td>\n",
       "      <td>0</td>\n",
       "      <td>0</td>\n",
       "      <td>0</td>\n",
       "      <td>0</td>\n",
       "      <td>0</td>\n",
       "      <td>0</td>\n",
       "      <td>0</td>\n",
       "      <td>0</td>\n",
       "      <td>0</td>\n",
       "    </tr>\n",
       "    <tr>\n",
       "      <th>3</th>\n",
       "      <td>0</td>\n",
       "      <td>0</td>\n",
       "      <td>0</td>\n",
       "      <td>0</td>\n",
       "      <td>0</td>\n",
       "      <td>0</td>\n",
       "      <td>0</td>\n",
       "      <td>0</td>\n",
       "      <td>0</td>\n",
       "      <td>0</td>\n",
       "      <td>...</td>\n",
       "      <td>0</td>\n",
       "      <td>0</td>\n",
       "      <td>0</td>\n",
       "      <td>0</td>\n",
       "      <td>0</td>\n",
       "      <td>0</td>\n",
       "      <td>0</td>\n",
       "      <td>0</td>\n",
       "      <td>0</td>\n",
       "      <td>0</td>\n",
       "    </tr>\n",
       "    <tr>\n",
       "      <th>4</th>\n",
       "      <td>4</td>\n",
       "      <td>0</td>\n",
       "      <td>0</td>\n",
       "      <td>0</td>\n",
       "      <td>0</td>\n",
       "      <td>0</td>\n",
       "      <td>0</td>\n",
       "      <td>0</td>\n",
       "      <td>0</td>\n",
       "      <td>0</td>\n",
       "      <td>...</td>\n",
       "      <td>0</td>\n",
       "      <td>0</td>\n",
       "      <td>0</td>\n",
       "      <td>0</td>\n",
       "      <td>0</td>\n",
       "      <td>0</td>\n",
       "      <td>0</td>\n",
       "      <td>0</td>\n",
       "      <td>0</td>\n",
       "      <td>0</td>\n",
       "    </tr>\n",
       "  </tbody>\n",
       "</table>\n",
       "<p>5 rows × 785 columns</p>\n",
       "</div>"
      ],
      "text/plain": [
       "   0    1    2    3    4    5    6    7    8    9    ...  775  776  777  778  \\\n",
       "0    7    0    0    0    0    0    0    0    0    0  ...    0    0    0    0   \n",
       "1    2    0    0    0    0    0    0    0    0    0  ...    0    0    0    0   \n",
       "2    1    0    0    0    0    0    0    0    0    0  ...    0    0    0    0   \n",
       "3    0    0    0    0    0    0    0    0    0    0  ...    0    0    0    0   \n",
       "4    4    0    0    0    0    0    0    0    0    0  ...    0    0    0    0   \n",
       "\n",
       "   779  780  781  782  783  784  \n",
       "0    0    0    0    0    0    0  \n",
       "1    0    0    0    0    0    0  \n",
       "2    0    0    0    0    0    0  \n",
       "3    0    0    0    0    0    0  \n",
       "4    0    0    0    0    0    0  \n",
       "\n",
       "[5 rows x 785 columns]"
      ]
     },
     "execution_count": 3,
     "metadata": {},
     "output_type": "execute_result"
    }
   ],
   "source": [
    "# load dataset\n",
    "\n",
    "filename = './과제10/mnist.csv'\n",
    "mnist = pd.read_csv(filename, header=None)\n",
    "mnist.head()"
   ]
  },
  {
   "cell_type": "code",
   "execution_count": 4,
   "metadata": {
    "ExecuteTime": {
     "end_time": "2020-05-31T19:17:36.856066Z",
     "start_time": "2020-05-31T19:17:36.761127Z"
    }
   },
   "outputs": [],
   "source": [
    "# convert data type from pd.DataFrame to np.array\n",
    "\n",
    "label = np.array(mnist.iloc[:, 0]).reshape(-1, 1)\n",
    "data = np.array(mnist.iloc[:, 1:])"
   ]
  },
  {
   "cell_type": "markdown",
   "metadata": {},
   "source": [
    "## Implement Normalization class\n",
    "\n",
    "행 방향으로 정규화 : 한 행에서 (하나의 숫자 그림에서) 가장 작은 값이 0, 가장 큰 값이 1이 되도록 변환"
   ]
  },
  {
   "cell_type": "code",
   "execution_count": 5,
   "metadata": {
    "ExecuteTime": {
     "end_time": "2020-05-31T19:17:36.937017Z",
     "start_time": "2020-05-31T19:17:36.859065Z"
    }
   },
   "outputs": [],
   "source": [
    "# make class 'minmaxscaler'\n",
    "\n",
    "class minmaxscaler:\n",
    "    \n",
    "    def __init__(self):\n",
    "        self.min_value = 0\n",
    "        self.max_value = 0\n",
    "        \n",
    "    def fit(self, X):\n",
    "        X = np.array(X)\n",
    "        self.min_value = np.min(X, axis=1)\n",
    "        self.max_value = np.where(np.max(X, axis=1) == 0, 1, np.max(X, axis=1))\n",
    "        # 행 별 최대 최소, 열 방향으로\n",
    "        \n",
    "        return self\n",
    "    \n",
    "    def transform(self, X):\n",
    "        X = np.array(X)\n",
    "        scaled = np.zeros(X.shape)\n",
    "        \n",
    "        for j in range(X.shape[0]):\n",
    "            scaled[j, :] = (X[j, :] - self.min_value[j]) / (self.max_value[j] - self.min_value[j])\n",
    "        \n",
    "        return scaled"
   ]
  },
  {
   "cell_type": "code",
   "execution_count": 6,
   "metadata": {
    "ExecuteTime": {
     "end_time": "2020-05-31T19:17:37.471685Z",
     "start_time": "2020-05-31T19:17:36.940016Z"
    }
   },
   "outputs": [],
   "source": [
    "minmax_scaler_model = minmaxscaler()\n",
    "minmax_scaler_model.fit(data)\n",
    "data_scaled = minmax_scaler_model.transform(data)"
   ]
  },
  {
   "cell_type": "markdown",
   "metadata": {},
   "source": [
    "## Implement Onehot encoding class"
   ]
  },
  {
   "cell_type": "code",
   "execution_count": 7,
   "metadata": {
    "ExecuteTime": {
     "end_time": "2020-05-31T19:17:37.489675Z",
     "start_time": "2020-05-31T19:17:37.474684Z"
    }
   },
   "outputs": [],
   "source": [
    "class onehotencoding:\n",
    "    \n",
    "    def __init__(self):\n",
    "        self.unique = 0\n",
    "    \n",
    "    def fit(self, X):\n",
    "        X = np.array(X)\n",
    "        self.unique = np.unique(X)\n",
    "        \n",
    "        return self\n",
    "    \n",
    "    def transform(self, X):\n",
    "        X = np.array(X)\n",
    "        m = X.shape[0]\n",
    "        n = self.unique.shape[0]\n",
    "    \n",
    "        empty = np.zeros((m, n))\n",
    "        \n",
    "        for i in range(m):\n",
    "            for j in range(n):\n",
    "                if X[i] == self.unique[j]:\n",
    "                    empty[i, j] = 1\n",
    "        \n",
    "        return empty"
   ]
  },
  {
   "cell_type": "code",
   "execution_count": 8,
   "metadata": {
    "ExecuteTime": {
     "end_time": "2020-05-31T19:17:37.941058Z",
     "start_time": "2020-05-31T19:17:37.495670Z"
    }
   },
   "outputs": [],
   "source": [
    "onehot_model = onehotencoding()\n",
    "onehot_model.fit(label)\n",
    "label_onehot = onehot_model.transform(label)"
   ]
  },
  {
   "cell_type": "markdown",
   "metadata": {},
   "source": [
    "## Split trainset and testset"
   ]
  },
  {
   "cell_type": "code",
   "execution_count": 9,
   "metadata": {
    "ExecuteTime": {
     "end_time": "2020-05-31T19:17:37.950045Z",
     "start_time": "2020-05-31T19:17:37.944048Z"
    }
   },
   "outputs": [],
   "source": [
    "train_index = 1000\n",
    "\n",
    "train_label = label[:train_index]\n",
    "test_label = label[train_index:]\n",
    "\n",
    "label_onehot_train = label_onehot[:train_index, :]\n",
    "label_onehot_test = label_onehot[train_index:, :]\n",
    "\n",
    "data_scaled_train = data_scaled[:train_index, :]\n",
    "data_scaled_test = data_scaled[train_index:, :]"
   ]
  },
  {
   "cell_type": "markdown",
   "metadata": {},
   "source": [
    "## Implement Penalized Neural Network class"
   ]
  },
  {
   "cell_type": "code",
   "execution_count": 10,
   "metadata": {
    "ExecuteTime": {
     "end_time": "2020-05-31T19:17:38.063815Z",
     "start_time": "2020-05-31T19:17:37.954043Z"
    }
   },
   "outputs": [],
   "source": [
    "class penalized_neural_network:\n",
    "\n",
    "    def __init__(self, learning_rate, error_bound, iteration, random_state,\n",
    "                 hidden_layer, number_node, fit_intercept, alpha):\n",
    "        self.learning_rate = learning_rate\n",
    "        self.error_bound = error_bound\n",
    "        self.iteration = iteration\n",
    "        self.random_state = random_state\n",
    "        self.alpha = alpha # penalized hyper parameter\n",
    "        self.number_parameter = 0\n",
    "        \n",
    "        self.hidden_layer = hidden_layer # int\n",
    "        self.number_node = number_node # list of int\n",
    "        self.fit_intercept = fit_intercept # True or False\n",
    "        \n",
    "        self.record_train_cost = []\n",
    "        self.record_test_cost = []\n",
    "        self.record_train_accuracy = []\n",
    "        self.record_test_accuracy = []\n",
    "        \n",
    "        self.coef_list = []\n",
    "        self.train_predict = []\n",
    "        self.test_predict = []\n",
    "        self.last_gradient = []\n",
    "    \n",
    "    def sigmoid(self, X, coef):\n",
    "        z = np.dot(X, coef)\n",
    "        sigmoid_value = 1 / (1 + np.exp(-z))\n",
    "        \n",
    "        return sigmoid_value\n",
    "    \n",
    "    def cost(self, X, coef_list, onehot_label):\n",
    "        delta = 10**(-8)\n",
    "        m = X.shape[0]\n",
    "        temp = X\n",
    "        sigmoid_list = []\n",
    "        \n",
    "        # forward propagation\n",
    "        for coef in coef_list:    \n",
    "            sig = self.sigmoid(temp, coef)\n",
    "            sigmoid_list.append(sig)\n",
    "            \n",
    "            if self.fit_intercept == True:\n",
    "                temp = np.column_stack((np.ones((sig.shape[0], 1)), sig))\n",
    "            else:\n",
    "                temp = sig\n",
    "        \n",
    "        error_term = -np.mean(np.sum(onehot_label * np.log(sig + delta) + (1 - onehot_label) * np.log(1 - sig + delta), axis=1))\n",
    "        \n",
    "        l2_term = 0\n",
    "        for coef in coef_list:\n",
    "            temp = self.alpha * np.mean(coef**2) / 2\n",
    "            l2_term = l2_term + temp\n",
    "            \n",
    "        cost_value = error_term + l2_term\n",
    "        \n",
    "        return cost_value, sigmoid_list\n",
    "    \n",
    "    def gradient(self, X, coef_list, onehot_label, sigmoid_list):\n",
    "        m = X.shape[0]\n",
    "        delta_list = []\n",
    "        gradient_list = []\n",
    "        \n",
    "        add_constant_sigmoid = []\n",
    "        \n",
    "        for i in range(len(sigmoid_list)):\n",
    "            temp = np.column_stack((np.ones((sigmoid_list[i].shape[0], 1)), sigmoid_list[i]))\n",
    "            add_constant_sigmoid.append(temp)\n",
    "        \n",
    "        sigmoid_list.insert(0, X)\n",
    "        add_constant_sigmoid.insert(0, X)\n",
    "        \n",
    "        # backward propagation\n",
    "        for i in range(self.hidden_layer+1):\n",
    "            if i == 0:\n",
    "                delta_value = sigmoid_list[-1] - onehot_label\n",
    "                penarlized_term = self.alpha * coef_list[-1] / self.number_parameter\n",
    "                gradient_value = np.dot(add_constant_sigmoid[-2].T, delta_value) / m + penarlized_term\n",
    "                \n",
    "                delta_list.insert(0, delta_value)\n",
    "                gradient_list.insert(0, gradient_value)\n",
    "            \n",
    "            else:\n",
    "                delta_value = np.dot(delta_list[0], coef_list[-i][1:, :].T) * sigmoid_list[-i-1] * (1 - sigmoid_list[-i-1])\n",
    "                penarlized_term = self.alpha * coef_list[-i-1] / self.number_parameter\n",
    "                gradient_value = np.dot(add_constant_sigmoid[-i-2].T, delta_value) / m + penarlized_term\n",
    "                \n",
    "                delta_list.insert(0, delta_value)\n",
    "                gradient_list.insert(0, gradient_value)\n",
    "        \n",
    "        return gradient_list\n",
    "    \n",
    "    def predict(self, sigmoid_list, predict_type='class'):\n",
    "        output_layer = sigmoid_list[-1]\n",
    "        \n",
    "        if predict_type == 'class':\n",
    "            predict_value = np.argmax(output_layer, axis=1)\n",
    "        \n",
    "        elif predict_type == 'response':\n",
    "            predict_value = output_layer\n",
    "        \n",
    "        return predict_value\n",
    "    \n",
    "    def fit(self, X_train, Y_train, X_test, Y_test): # Y_train, Y_test는 onehotencoding이 완료된 데이터\n",
    "        X_train = np.array(X_train)\n",
    "        Y_train = np.array(Y_train)\n",
    "        X_test = np.array(X_test)\n",
    "        Y_test = np.array(Y_test)\n",
    "        m = X_train.shape[0]\n",
    "        n = X_train.shape[1]\n",
    "        q = X_test.shape[0]\n",
    "        p = Y_train.shape[1]\n",
    "        label_train = np.argmax(Y_train, axis=1).reshape(-1, 1) # train accuracy 계산하기 위한 label\n",
    "        label_test = np.argmax(Y_test, axis=1).reshape(-1, 1) # test accuracy 계산하기 위한 label\n",
    "        \n",
    "        self.number_node.insert(0, n)\n",
    "        self.number_node.append(p)\n",
    "        coef_list = []\n",
    "        \n",
    "        # fit_intercept\n",
    "        if self.fit_intercept == True:\n",
    "            number_node_with_intercept = []\n",
    "            \n",
    "            X_train = np.column_stack((np.ones((m, 1)), X_train))\n",
    "            X_test = np.column_stack((np.ones((q, 1)), X_test))\n",
    "            \n",
    "            for number in self.number_node:\n",
    "                number_node_with_intercept.append(number+1)\n",
    "                \n",
    "        else:\n",
    "            number_node_with_intercept = self.number_node\n",
    "        \n",
    "        # calculate number of parameters\n",
    "        number_parameter = 0\n",
    "        for i in range(len(number_node_with_intercept)-1):\n",
    "            temp = number_node_with_intercept[i]*number_node_with_intercept[i+1]\n",
    "            number_parameter = number_parameter + temp\n",
    "            \n",
    "        self.number_parameter = number_parameter\n",
    "        \n",
    "        # set initial parameters\n",
    "        np.random.seed(self.random_state) # for reproducibility\n",
    "        \n",
    "        for layer in range(self.hidden_layer+1):\n",
    "            temp_theta = np.random.randn(number_node_with_intercept[layer], self.number_node[layer+1])\n",
    "            coef_list.append(temp_theta)\n",
    "        \n",
    "        # check model fitting progress\n",
    "        import time\n",
    "        start = time.time()\n",
    "        \n",
    "        # model fitting\n",
    "        while True:\n",
    "            # calculate train and test cost\n",
    "            train_cost, train_sigmoid = self.cost(X_train, coef_list, Y_train)\n",
    "            test_cost, test_sigmoid = self.cost(X_test, coef_list, Y_test)\n",
    "            \n",
    "            self.record_train_cost.append(train_cost)\n",
    "            self.record_test_cost.append(test_cost)\n",
    "            \n",
    "            # calculate train and test accuracy\n",
    "            train_predict = self.predict(train_sigmoid, predict_type='class').reshape(-1, 1)\n",
    "            test_predict = self.predict(test_sigmoid, predict_type='class').reshape(-1, 1)\n",
    "            \n",
    "            train_accuarcy = np.mean(train_predict == label_train)\n",
    "            test_accuarcy = np.mean(test_predict == label_test)\n",
    "            \n",
    "            self.record_train_accuracy.append(train_accuarcy)\n",
    "            self.record_test_accuracy.append(test_accuarcy)\n",
    "            \n",
    "            # calculate gradient using back propagation and renew the parameters\n",
    "            gradient_list = self.gradient(X_train, coef_list, Y_train, train_sigmoid)\n",
    "            \n",
    "            for i in range(len(coef_list)):\n",
    "                coef_list[i] = coef_list[i] - self.learning_rate * gradient_list[i]\n",
    "\n",
    "            # stopping rules\n",
    "            length = len(self.record_train_accuracy)\n",
    "            \n",
    "            if length > self.iteration:\n",
    "                if self.record_train_accuracy[-2] - self.record_train_accuracy[-1] < self.error_bound:\n",
    "                    break\n",
    "            \n",
    "            # print model fitting progress\n",
    "            running_time = time.time() - start\n",
    "            minute = int(running_time // 60)\n",
    "            second = round(running_time % 60, 1)\n",
    "            \n",
    "            if length % 1000 == 0:\n",
    "                print('Iter : {}, Running time : {}m {}s'.format(length, minute, second), end=', ')\n",
    "                print('Train accuracy : {}%, Test accuracy : {}%'.format(round(100*train_accuarcy, 4),\n",
    "                                                                         round(100*test_accuarcy, 4)))\n",
    "                print('Train Cost : {}, Test Cost : {}\\n'.format(train_cost, test_cost))\n",
    "            \n",
    "            # error situation : too much iteration\n",
    "            if length > 100000:\n",
    "                print('반복 횟수가 너무 많습니다. Train Cost가 수렴하지 못했습니다. 학습률을 조정해보시기 바랍니다.')\n",
    "                break\n",
    "                \n",
    "        self.coef_list = coef_list\n",
    "        self.train_predict = train_predict\n",
    "        self.test_predict = test_predict\n",
    "        self.last_gradient = gradient_list\n",
    "        \n",
    "        return self"
   ]
  },
  {
   "cell_type": "markdown",
   "metadata": {},
   "source": [
    "# 0. Optimization"
   ]
  },
  {
   "cell_type": "code",
   "execution_count": 11,
   "metadata": {
    "ExecuteTime": {
     "end_time": "2020-05-31T19:17:38.199201Z",
     "start_time": "2020-05-31T19:17:38.065811Z"
    }
   },
   "outputs": [],
   "source": [
    "model_neural_network = penalized_neural_network(error_bound=10**(-7),\n",
    "                                                random_state=20152410,\n",
    "                                                fit_intercept=True,\n",
    "                                                iteration=10000,\n",
    "                                                learning_rate=2.5,\n",
    "                                                hidden_layer=1,\n",
    "                                                number_node=[50],\n",
    "                                                alpha=20)"
   ]
  },
  {
   "cell_type": "code",
   "execution_count": 12,
   "metadata": {
    "ExecuteTime": {
     "end_time": "2020-05-31T19:27:35.258225Z",
     "start_time": "2020-05-31T19:17:38.202198Z"
    }
   },
   "outputs": [
    {
     "name": "stdout",
     "output_type": "stream",
     "text": [
      "Iter : 1000, Running time : 1m 1.3s, Train accuracy : 100.0%, Test accuracy : 88.4333%\n",
      "Train Cost : 12.230413135701934, Test Cost : 12.906755072952564\n",
      "\n",
      "Iter : 2000, Running time : 2m 1.5s, Train accuracy : 100.0%, Test accuracy : 88.7%\n",
      "Train Cost : 10.125452260851308, Test Cost : 10.770491435149735\n",
      "\n",
      "Iter : 3000, Running time : 3m 0.6s, Train accuracy : 100.0%, Test accuracy : 88.6778%\n",
      "Train Cost : 9.493431313585287, Test Cost : 10.145983682930584\n",
      "\n",
      "Iter : 4000, Running time : 3m 58.8s, Train accuracy : 100.0%, Test accuracy : 88.5889%\n",
      "Train Cost : 9.206403569046007, Test Cost : 9.86111412982104\n",
      "\n",
      "Iter : 5000, Running time : 4m 58.8s, Train accuracy : 100.0%, Test accuracy : 88.7%\n",
      "Train Cost : 9.064476948029798, Test Cost : 9.7188396100901\n",
      "\n",
      "Iter : 6000, Running time : 5m 58.9s, Train accuracy : 100.0%, Test accuracy : 88.7111%\n",
      "Train Cost : 8.982954386519138, Test Cost : 9.637188425485649\n",
      "\n",
      "Iter : 7000, Running time : 6m 57.2s, Train accuracy : 100.0%, Test accuracy : 88.7889%\n",
      "Train Cost : 8.926009065279189, Test Cost : 9.579596423613342\n",
      "\n",
      "Iter : 8000, Running time : 7m 57.4s, Train accuracy : 100.0%, Test accuracy : 88.8222%\n",
      "Train Cost : 8.884991691379412, Test Cost : 9.5381482687071\n",
      "\n",
      "Iter : 9000, Running time : 8m 57.8s, Train accuracy : 100.0%, Test accuracy : 88.7778%\n",
      "Train Cost : 8.857543504888742, Test Cost : 9.510991502931539\n",
      "\n",
      "Iter : 10000, Running time : 9m 56.8s, Train accuracy : 100.0%, Test accuracy : 88.7%\n",
      "Train Cost : 8.83922646892246, Test Cost : 9.493311022527832\n",
      "\n"
     ]
    },
    {
     "data": {
      "text/plain": [
       "<__main__.penalized_neural_network at 0x162192ba780>"
      ]
     },
     "execution_count": 12,
     "metadata": {},
     "output_type": "execute_result"
    }
   ],
   "source": [
    "model_neural_network.fit(X_train=data_scaled_train,\n",
    "                         Y_train=label_onehot_train,\n",
    "                         X_test=data_scaled_test,\n",
    "                         Y_test=label_onehot_test)"
   ]
  },
  {
   "cell_type": "markdown",
   "metadata": {},
   "source": [
    "## Result record\n",
    "\n",
    "##### 1번 시도 : learning_rate=1, alpha=1, hidden_layer=2, number_node=[196, 49]\n",
    "\n",
    "Iter : 1000, Running time : 4m 54.1s, Train accuracy : 100.0%, Test accuracy : 77.0%\n",
    "\n",
    "Train Cost : 2.1335127255917756, Test Cost : 3.6063976066367505\n",
    "\n",
    "##### 2번 시도 : learning_rate=2, alpha=10, hidden_layer=3, number_node=[392, 196, 98]\n",
    "\n",
    "Iter : 400, Running time : 5m 20.6s, Train accuracy : 100.0%, Test accuracy : 74.0%\n",
    "\n",
    "Train Cost : 22.297263176823893, Test Cost : 23.861362055036665\n",
    "\n",
    "##### 3번 시도 : learning_rate=2, alpha=5, hidden_layer=3, number_node=[200, 100, 50]\n",
    "\n",
    "Iter : 600, Running time : 3m 44.8s, Train accuracy : 99.9%, Test accuracy : 77.0%\n",
    "\n",
    "Train Cost : 12.708546419774065, Test Cost : 14.21191207260918\n",
    "\n",
    "##### 4번 시도 : learning_rate=2, alpha=10, hidden_layer=4, number_node=[396, 202, 106, 58]\n",
    "\n",
    "Iter : 1000, Running time : 13m 18.4s, Train accuracy : 99.9%, Test accuracy : 73.0%\n",
    "\n",
    "Train Cost : 31.285935667271428, Test Cost : 33.10418290407974\n",
    "\n",
    "##### 5번 시도 : learning_rate=1.5, alpha=5, hidden_layer=3, number_node=[400, 200, 100]\n",
    "\n",
    "Iter : 300, Running time : 4m 6.1s, Train accuracy : 100.0%, Test accuracy : 74.0%\n",
    "\n",
    "Train Cost : 10.85356616938031, Test Cost : 12.449866610087245\n",
    "\n",
    "##### 6번 시도 : learning_rate=1.5, alpha=5, hidden_layer=3, number_node=[600, 400, 200]\n",
    "\n",
    "Iter : 400, Running time : 11m 32.9s, Train accuracy : 100.0%, Test accuracy : 73.0%\n",
    "\n",
    "Train Cost : 10.429270136925677, Test Cost : 12.248342710283715\n",
    "\n",
    "##### 7번 시도 : learning_rate=1.5, alpha=2.5, hidden_layer=3, number_node=[400, 200, 50]\n",
    "\n",
    "Iter : 400, Running time : 4m 33.5s, Train accuracy : 99.9%, Test accuracy : 71.0%\n",
    "\n",
    "Train Cost : 6.187633099447817, Test Cost : 7.920751936535808\n",
    "\n",
    "##### 8번 시도 : learning_rate=1.5, alpha=2.5, hidden_layer=2, number_node=[160, 32]\n",
    "\n",
    "Iter : 600, Running time : 2m 5.2s, Train accuracy : 99.8%, Test accuracy : 80.0%\n",
    "\n",
    "Train Cost : 6.1939755479369945, Test Cost : 7.422802356823845\n",
    "\n",
    "##### 9번 시도 : learning_rate=1.5, alpha=2.5, hidden_layer=2, number_node=[128 ,28]\n",
    "\n",
    "Iter : 600, Running time : 2m 22.1s, Train accuracy : 99.5%, Test accuracy : 78.0%\n",
    "\n",
    "Train Cost : 6.8827057983491216, Test Cost : 8.12447464900042\n",
    "\n",
    "##### 10번 시도 : learning_rate=1.5, alpha=2, hidden_layer=3, number_node=[384, 96, 28]\n",
    "\n",
    "Iter : 600, Running time : 4m 23.3s, Train accuracy : 100.0%, Test accuracy : 72.0%\n",
    "\n",
    "Train Cost : 7.0044725800452285, Test Cost : 8.720926783718689\n",
    "\n",
    "##### 11번 시도 : learning_rate=1.5, alpha=2, hidden_layer=3, number_node=[1176, 196, 98]\n",
    "\n",
    "Iter : 400, Running time : 9m 20.4s, Train accuracy : 100.0%, Test accuracy : 70.0%\n",
    "\n",
    "Train Cost : 4.363638143690686, Test Cost : 6.32730190320133\n",
    "\n",
    "##### 12번 시도 : learning_rate=1.5, alpha=10, hidden_layer=2, number_node=[400, 100]\n",
    "\n",
    "Iter : 600, Running time : 4m 23.0s, Train accuracy : 100.0%, Test accuracy : 78.0%\n",
    "\n",
    "Train Cost : 16.61886629014502, Test Cost : 18.140934032137267\n",
    "\n",
    "##### 13번 시도 : learning_rate=1.5, alpha=5, hidden_layer=2, number_node=[400, 100]\n",
    "\n",
    "Iter : 600, Running time : 4m 30.8s, Train accuracy : 100.0%, Test accuracy : 78.0%\n",
    "\n",
    "Train Cost : 8.528022023163393, Test Cost : 10.0633521800385\n",
    "\n",
    "##### 14번 시도 : learning_rate=1.5, alpha=2.5, hidden_layer=2, number_node=[400, 100]\n",
    "\n",
    "Iter : 600, Running time : 4m 27.0s, Train accuracy : 100.0%, Test accuracy : 77.0%\n",
    "\n",
    "Train Cost : 4.334591281095076, Test Cost : 5.878851322559572\n",
    "\n",
    "##### 15번 시도 : learning_rate=1.5, alpha=0, hidden_layer=3, number_node=[484, 225, 64]\n",
    "\n",
    "Iter : 600, Running time : 6m 33.2s, Train accuracy : 100.0%, Test accuracy : 71.0%\n",
    "\n",
    "Train Cost : 0.03615313859976079, Test Cost : 1.8635683863114525\n",
    "\n",
    "##### 16번 시도 : learning_rate=1, alpha=0, hidden_layer=2, number_node=[256, 36]\n",
    "\n",
    "Iter : 600, Running time : 3m 14.8s, Train accuracy : 99.1%, Test accuracy : 75.0%\n",
    "\n",
    "Train Cost : 0.17607257421577072, Test Cost : 1.5254835199851304\n",
    "\n",
    "##### 17번 시도 : learning_rate=1, alpha=1, hidden_layer=2, number_node=[256, 36]\n",
    "\n",
    "Iter : 600, Running time : 3m 29.4s, Train accuracy : 99.1%, Test accuracy : 75.0%\n",
    "\n",
    "Train Cost : 2.2823707500277672, Test Cost : 3.6282282415151577\n",
    "\n",
    "##### 18번 시도 : learning_rate=1, alpha=2, hidden_layer=2, number_node=[256, 36]\n",
    "\n",
    "Iter : 600, Running time : 3m 17.1s, Train accuracy : 99.1%, Test accuracy : 75.0%\n",
    "\n",
    "Train Cost : 4.369932325721428, Test Cost : 5.712222180149498\n",
    "\n",
    "##### 19번 시도 : learning_rate=1, alpha=3, hidden_layer=2, number_node=[256, 36]\n",
    "\n",
    "Iter : 800, Running time : 4m 14.4s, Train accuracy : 99.5%, Test accuracy : 76.0%\n",
    "\n",
    "Train Cost : 6.798340131114075, Test Cost : 8.200395158691371\n",
    "\n",
    "##### 20번 시도 : learning_rate=1.5, alpha=2.5, hidden_layer=2, number_node=[160, 32]\n",
    "\n",
    "Iter : 800, Running time : 2m 53.6s, Train accuracy : 100.0%, Test accuracy : 80.0%\n",
    "\n",
    "Train Cost : 6.552738037992273, Test Cost : 7.823044505831733\n",
    "\n",
    "##### 21번 시도 : learning_rate=1.5, alpha=0, hidden_layer=2, number_node=[160, 32]\n",
    "\n",
    "Iter : 1000, Running time : 3m 46.1s, Train accuracy : 100.0%, Test accuracy : 78.0%\n",
    "\n",
    "Train Cost : 0.0715112705313256, Test Cost : 1.429778399634282\n",
    "\n",
    "##### 22번 시도 : learning_rate=1.5, alpha=1, hidden_layer=2, number_node=[160, 32]\n",
    "\n",
    "Iter : 1000, Running time : 3m 27.6s, Train accuracy : 100.0%, Test accuracy : 78.0%\n",
    "\n",
    "Train Cost : 2.566467443423523, Test Cost : 3.9153452487398237\n",
    "\n",
    "##### 23번 시도 : learning_rate=1.5, alpha=2, hidden_layer=2, number_node=[160, 32]\n",
    "\n",
    "Iter : 1000, Running time : 3m 49.8s, Train accuracy : 100.0%, Test accuracy : 78.0%\n",
    "\n",
    "Train Cost : 5.005864176104479, Test Cost : 6.344893587122391\n",
    "\n",
    "##### 24번 시도 : learning_rate=1.5, alpha=3, hidden_layer=2, number_node=[160, 32]\n",
    "\n",
    "Iter : 1000, Running time : 3m 23.6s, Train accuracy : 100.0%, Test accuracy : 78.0%\n",
    "\n",
    "Train Cost : 7.390782914772613, Test Cost : 8.720559125074821\n",
    "\n",
    "##### 25번 시도 : learning_rate=1.5, alpha=1.25, hidden_layer=2, number_node=[160, 32]\n",
    "\n",
    "Iter : 1000, Running time : 4m 10.6s, Train accuracy : 100.0%, Test accuracy : 78.0%\n",
    "\n",
    "Train Cost : 3.181473002369599, Test Cost : 4.527906676848368\n",
    "\n",
    "##### 26번 시도 : learning_rate=0.5, alpha=0, hidden_layer=2, number_node=[200, 80]\n",
    "\n",
    "Iter : 1000, Running time : 4m 53.3s, Train accuracy : 100.0%, Test accuracy : 78.0%\n",
    "\n",
    "Train Cost : 0.08022874158914911, Test Cost : 1.4755836092193775\n",
    "\n",
    "##### 27번 시도 : learning_rate=0.5, alpha=0, hidden_layer=2, number_node=[400, 400]\n",
    "\n",
    "Iter : 1000, Running time : 13m 16.7s, Train accuracy : 100.0%, Test accuracy : 71.0%\n",
    "\n",
    "Train Cost : 0.010182299164416318, Test Cost : 2.754614334559962\n",
    "\n",
    "##### 28번 시도 : learning_rate=0.5, alpha=0, hidden_layer=2, number_node=[700, 500]\n",
    "\n",
    "Iter : 200, Running time : 4m 43.1s, Train accuracy : 100.0%, Test accuracy : 62.0%\n",
    "\n",
    "Train Cost : 0.02856734173059641, Test Cost : 3.728098058353736\n",
    "\n",
    "##### 29번 시도 : learning_rate=0.5, alpha=0, hidden_layer=2, number_node=[100, 50]\n",
    "\n",
    "Iter : 1000, Running time : 2m 33.9s, Train accuracy : 99.8%, Test accuracy : 78.0%\n",
    "\n",
    "Train Cost : 0.13049047959551752, Test Cost : 1.3402921008796407\n",
    "\n",
    "##### 30번 시도 : learning_rate=0.5, alpha=0, hidden_layer=2, number_node=[200, 50]\n",
    "\n",
    "Iter : 1000, Running time : 4m 7.3s, Train accuracy : 99.9%, Test accuracy : 77.0%\n",
    "\n",
    "Train Cost : 0.12303526995411541, Test Cost : 1.440916356027772\n",
    "\n",
    "##### 31번 시도 : learning_rate=0.5, alpha=0, hidden_layer=1, number_node=[400]\n",
    "\n",
    "Iter : 800, Running time : 5m 41.2s, Train accuracy : 100.0%, Test accuracy : 78.0%\n",
    "\n",
    "Train Cost : 0.018921751233301896, Test Cost : 2.3531646319532458\n",
    "\n",
    "##### 32번 시도 : learning_rate=0.5, alpha=0, hidden_layer=1, number_node=[200]\n",
    "\n",
    "Iter : 400, Running time : 1m 39.0s, Train accuracy : 100.0%, Test accuracy : 76.0%\n",
    "\n",
    "Train Cost : 0.14165330223378417, Test Cost : 1.8070378529860032\n",
    "\n",
    "##### 33번 시도 : learning_rate=0.5, alpha=0, hidden_layer=1, number_node=[100]\n",
    "\n",
    "Iter : 1000, Running time : 1m 54.1s, Train accuracy : 100.0%, Test accuracy : 80.0%\n",
    "\n",
    "Train Cost : 0.1043576728310457, Test Cost : 1.4132404902044746\n",
    "\n",
    "##### 34번 시도 : learning_rate=0.5, alpha=0, hidden_layer=1, number_node=[50]\n",
    "\n",
    "Iter : 1000, Running time : 1m 7.8s, Train accuracy : 99.2%, Test accuracy : 81.0%\n",
    "\n",
    "Train Cost : 0.24302959648295108, Test Cost : 1.2145995460278238\n",
    "\n",
    "##### 35번 시도 : learning_rate=0.5, alpha=0, hidden_layer=1, number_node=[50]\n",
    "\n",
    "Iter : 1200, Running time : 1m 19.4s, Train accuracy : 99.6%, Test accuracy : 82.0%\n",
    "\n",
    "Train Cost : 0.1928955747190651, Test Cost : 1.2117856578006367\n",
    "\n",
    "##### 36번 시도 : learning_rate=0.5, alpha=0, hidden_layer=1, number_node=[40]\n",
    "\n",
    "Iter : 1200, Running time : 1m 9.6s, Train accuracy : 99.1%, Test accuracy : 80.0%\n",
    "\n",
    "Train Cost : 0.25271683191745076, Test Cost : 1.2949999509508896\n",
    "\n",
    "##### 37번 시도 : learning_rate=0.5, alpha=0, hidden_layer=1, number_node=[30]\n",
    "\n",
    "Iter : 2000, Running time : 1m 35.4s, Train accuracy : 99.2%, Test accuracy : 80.0%\n",
    "\n",
    "Train Cost : 0.1735527016436568, Test Cost : 1.318708121532921\n",
    "\n",
    "##### 38번 시도 : learning_rate=0.5, alpha=0, hidden_layer=1, number_node=[20]\n",
    "\n",
    "Iter : 2000, Running time : 1m 12.2s, Train accuracy : 98.7%, Test accuracy : 80.0%\n",
    "\n",
    "Train Cost : 0.19595108857363083, Test Cost : 1.315745542282448\n",
    "\n",
    "##### 39번 시도 : learning_rate=0.5, alpha=0, hidden_layer=1, number_node=[50]\n",
    "\n",
    "Iter : 2000, Running time : 2m 27.2s, Train accuracy : 100.0%, Test accuracy : 83.0%\n",
    "\n",
    "Train Cost : 0.05917299664619862, Test Cost : 1.2701572022195897\n",
    "\n",
    "##### 40번 시도 : learning_rate=0.5, alpha=1, hidden_layer=1, number_node=[50]\n",
    "\n",
    "Iter : 2000, Running time : 2m 4.4s, Train accuracy : 100.0%, Test accuracy : 83.0%\n",
    "\n",
    "Train Cost : 1.664132150236614, Test Cost : 2.845823784178929\n",
    "\n",
    "##### 41번 시도 : learning_rate=0.5, alpha=2, hidden_layer=1, number_node=[50]\n",
    "\n",
    "Iter : 2000, Running time : 2m 29.6s, Train accuracy : 100.0%, Test accuracy : 84.0%\n",
    "\n",
    "Train Cost : 3.11920565262161, Test Cost : 4.272405160448106\n",
    "\n",
    "##### 42번 시도 : learning_rate=0.5, alpha=3, hidden_layer=1, number_node=[50]\n",
    "\n",
    "Iter : 2000, Running time : 2m 28.3s, Train accuracy : 100.0%, Test accuracy : 84.0%\n",
    "\n",
    "Train Cost : 4.437913961966033, Test Cost : 5.56350641772605\n",
    "\n",
    "##### 43번 시도 : learning_rate=0.5, alpha=4, hidden_layer=1, number_node=[50]\n",
    "\n",
    "Iter : 2000, Running time : 2m 3.7s, Train accuracy : 100.0%, Test accuracy : 83.856%\n",
    "\n",
    "Train Cost : 5.632873936203264, Test Cost : 6.732340712723448\n",
    "\n",
    "##### 44번 시도 : learning_rate=0.5, alpha=4.5, hidden_layer=1, number_node=[50]\n",
    "\n",
    "Iter : 2000, Running time : 2m 6.0s, Train accuracy : 100.0%, Test accuracy : 83.989%\n",
    "\n",
    "Train Cost : 6.187346454987579, Test Cost : 7.274239161839237\n",
    "\n",
    "##### 45번 시도 : learning_rate=0.5, alpha=5, hidden_layer=1, number_node=[50]\n",
    "\n",
    "Iter : 3000, Running time : 3m 11.6s, Train accuracy : 100.0%, Test accuracy : 85.078%\n",
    "\n",
    "Train Cost : 6.753368042566107, Test Cost : 7.819928145173417\n",
    "\n",
    "##### 46번 시도 : learning_rate=0.5, alpha=6, hidden_layer=1, number_node=[50]\n",
    "\n",
    "Iter : 3000, Running time : 3m 7.9s, Train accuracy : 100.0%, Test accuracy : 85.267%\n",
    "\n",
    "Train Cost : 7.611233458735857, Test Cost : 8.642226008475916\n",
    "\n",
    "##### 47번 시도 : learning_rate=0.5, alpha=7, hidden_layer=1, number_node=[50]\n",
    "\n",
    "Iter : 4000, Running time : 4m 11.9s, Train accuracy : 100.0%, Test accuracy : 86.4222%\n",
    "\n",
    "Train Cost : 7.944474095468704, Test Cost : 8.90537051724277\n",
    "\n",
    "##### 48번 시도 : learning_rate=1, alpha=8, hidden_layer=1, number_node=[50]\n",
    "\n",
    "Iter : 5000, Running time : 5m 2.1s, Train accuracy : 100.0%, Test accuracy : 87.8%\n",
    "\n",
    "Train Cost : 7.068311364499101, Test Cost : 7.8961723211166035\n",
    "\n",
    "##### 49번 시도 : learning_rate=1, alpha=9, hidden_layer=1, number_node=[50]\n",
    "\n",
    "Iter : 5000, Running time : 4m 57.6s, Train accuracy : 100.0%, Test accuracy : 88.0889%\n",
    "\n",
    "Train Cost : 7.374160851933921, Test Cost : 8.170368086727093\n",
    "\n",
    "##### 50번 시도 : learning_rate=1, alpha=10, hidden_layer=1, number_node=[50]\n",
    "\n",
    "Iter : 7500, Running time : 7m 28.9s, Train accuracy : 100.0%, Test accuracy : 88.3%\n",
    "\n",
    "Train Cost : 6.774252179195781, Test Cost : 7.5073671176515315\n",
    "\n",
    "##### 51번 시도 : learning_rate=1, alpha=9, hidden_layer=1, number_node=[50]\n",
    "\n",
    "Iter : 7500, Running time : 7m 33.8s, Train accuracy : 100.0%, Test accuracy : 88.2111%\n",
    "\n",
    "Train Cost : 6.478820425109996, Test Cost : 7.227959912971548\n",
    "\n",
    "##### 52번 시도 : learning_rate=1.25, alpha=10, hidden_layer=1, number_node=[50]\n",
    "\n",
    "Iter : 7500, Running time : 7m 39.6s, Train accuracy : 100.0%, Test accuracy : 88.5778%\n",
    "\n",
    "Train Cost : 6.373554782519803, Test Cost : 7.099683836110189\n",
    "\n",
    "##### 53번 시도 : learning_rate=1.4, alpha=11, hidden_layer=1, number_node=[50]\n",
    "\n",
    "Iter : 7500, Running time : 7m 31.3s, Train accuracy : 100.0%, Test accuracy : 88.5889%\n",
    "\n",
    "Train Cost : 6.528500780852142, Test Cost : 7.251249692825701\n",
    "\n",
    "##### 54번 시도 : learning_rate=1.5, alpha=11, hidden_layer=1, number_node=[50]\n",
    "\n",
    "Iter : 7500, Running time : 7m 51.1s, Train accuracy : 100.0%, Test accuracy : 88.7333%\n",
    "\n",
    "Train Cost : 6.754416635662768, Test Cost : 7.469829713351991\n",
    "\n",
    "##### 55번 시도 : learning_rate=2, alpha=12, hidden_layer=1, number_node=[50]\n",
    "\n",
    "Iter : 7500, Running time : 8m 0.7s, Train accuracy : 100.0%, Test accuracy : 88.7667%\n",
    "\n",
    "Train Cost : 6.5737291681114485, Test Cost : 7.278124375670684\n",
    "\n",
    "##### 56번 시도 : learning_rate=2, alpha=13, hidden_layer=1, number_node=[50]\n",
    "\n",
    "Iter : 7500, Running time : 8m 16.6s, Train accuracy : 100.0%, Test accuracy : 88.7222%\n",
    "\n",
    "Train Cost : 6.887180935293809, Test Cost : 7.583239534992739\n",
    "\n",
    "##### 57번 시도 : learning_rate=2.5, alpha=14, hidden_layer=1, number_node=[50]\n",
    "\n",
    "Iter : 7500, Running time : 8m 0.4s, Train accuracy : 100.0%, Test accuracy : 88.7889%\n",
    "\n",
    "Train Cost : 7.118411385500145, Test Cost : 7.803191792402613\n",
    "\n",
    "##### 58번 시도 : learning_rate=2.5, alpha=15, hidden_layer=1, number_node=[50]\n",
    "\n",
    "Iter : 8000, Running time : 8m 20.0s, Train accuracy : 100.0%, Test accuracy : 88.7778%\n",
    "\n",
    "Train Cost : 7.412873443745047, Test Cost : 8.0913181797134\n",
    "\n",
    "##### 59번 시도 : learning_rate=2.5, alpha=16, hidden_layer=1, number_node=[50]\n",
    "\n",
    "Iter : 8000, Running time : 9m 11.6s, Train accuracy : 100.0%, Test accuracy : 88.8%\n",
    "\n",
    "Train Cost : 7.721327088856155, Test Cost : 8.39348457845773\n",
    "\n",
    "##### 60번 시도 : learning_rate=2.5, alpha=20, hidden_layer=1, number_node=[50]\n",
    "\n",
    "Iter : 8000, Running time : 9m 36.9s, Train accuracy : 100.0%, Test accuracy : 88.8222%\n",
    "\n",
    "Train Cost : 8.884991691379412, Test Cost : 9.5381482687071\n",
    "\n",
    "##### 61번 시도 : learning_rate=3, alpha=30, hidden_layer=1, number_node=[50]\n",
    "\n",
    "Iter : 8000, Running time : 8m 4.4s, Train accuracy : 100.0%, Test accuracy : 88.5111%\n",
    "\n",
    "Train Cost : 11.461993330163502, Test Cost : 12.083107895769395\n",
    "\n",
    "##### 62번 시도 : learning_rate=3, alpha=25, hidden_layer=1, number_node=[50]\n",
    "\n",
    "Iter : 5000, Running time : 5m 33.4s, Train accuracy : 100.0%, Test accuracy : 88.4111%\n",
    "\n",
    "Train Cost : 10.393547211049103, Test Cost : 11.026719251125382\n",
    "\n",
    "##### 최종 시도 : learning_rate=2.5, alpha=20, hidden_layer=1, number_node=[50]"
   ]
  },
  {
   "cell_type": "markdown",
   "metadata": {},
   "source": [
    "## Source of plot of the classification example"
   ]
  },
  {
   "cell_type": "code",
   "execution_count": 13,
   "metadata": {
    "ExecuteTime": {
     "end_time": "2020-05-31T19:27:35.271216Z",
     "start_time": "2020-05-31T19:27:35.262224Z"
    }
   },
   "outputs": [],
   "source": [
    "number = 10\n",
    "size_row = 28\n",
    "size_col = 28\n",
    "\n",
    "test_cor_index = np.where(model_neural_network.test_predict == test_label)\n",
    "test_cor_index = test_cor_index[0]\n",
    "test_mis_index = np.where(model_neural_network.test_predict != test_label)\n",
    "test_mis_index = test_mis_index[0]"
   ]
  },
  {
   "cell_type": "code",
   "execution_count": 14,
   "metadata": {
    "ExecuteTime": {
     "end_time": "2020-05-31T19:27:35.398138Z",
     "start_time": "2020-05-31T19:27:35.274215Z"
    }
   },
   "outputs": [],
   "source": [
    "cor_index = test_cor_index[:number]\n",
    "cor_label = test_label[cor_index]\n",
    "cor_pred = model_neural_network.test_predict[cor_index]\n",
    "cor_data = data_scaled_test[cor_index, :]\n",
    "\n",
    "mis_index = test_mis_index[:number]\n",
    "mis_label = test_label[mis_index]\n",
    "mis_pred = model_neural_network.test_predict[mis_index]\n",
    "mis_data = data_scaled_test[mis_index, :]"
   ]
  },
  {
   "cell_type": "code",
   "execution_count": 15,
   "metadata": {
    "ExecuteTime": {
     "end_time": "2020-05-31T19:27:35.540051Z",
     "start_time": "2020-05-31T19:27:35.402135Z"
    }
   },
   "outputs": [],
   "source": [
    "cor_data_list = []\n",
    "mis_data_list = []\n",
    "\n",
    "for a in range(number):\n",
    "    cor_pixel = cor_data[a, :].reshape(size_row, size_col)\n",
    "    mis_pixel = mis_data[a, :].reshape(size_row, size_col)\n",
    "    \n",
    "    cor_data_list.append(cor_pixel)\n",
    "    mis_data_list.append(mis_pixel)"
   ]
  },
  {
   "cell_type": "markdown",
   "metadata": {},
   "source": [
    "# 1. Plot the loss curve"
   ]
  },
  {
   "cell_type": "code",
   "execution_count": 16,
   "metadata": {
    "ExecuteTime": {
     "end_time": "2020-05-31T19:27:35.979258Z",
     "start_time": "2020-05-31T19:27:35.545059Z"
    }
   },
   "outputs": [
    {
     "data": {
      "image/png": "[encoded data removed]",
      "text/plain": [
       "<Figure size 864x432 with 1 Axes>"
      ]
     },
     "metadata": {
      "needs_background": "light"
     },
     "output_type": "display_data"
    }
   ],
   "source": [
    "traincost = model_neural_network.record_train_cost\n",
    "testcost = model_neural_network.record_test_cost\n",
    "\n",
    "plt.figure(figsize=(12, 6))\n",
    "plt.plot(traincost, 'b', label='train')\n",
    "plt.plot(testcost, 'r', label='test')\n",
    "plt.title('Loss curve of train and test', fontsize=25)\n",
    "plt.xlabel('iteration', fontsize=15)\n",
    "plt.ylabel('loss', fontsize=15)\n",
    "plt.legend(loc='best', fontsize=15)\n",
    "plt.tight_layout()\n",
    "plt.show()"
   ]
  },
  {
   "cell_type": "markdown",
   "metadata": {},
   "source": [
    "# 2. Plot the accuracy curve"
   ]
  },
  {
   "cell_type": "code",
   "execution_count": 17,
   "metadata": {
    "ExecuteTime": {
     "end_time": "2020-05-31T19:27:36.322047Z",
     "start_time": "2020-05-31T19:27:35.982258Z"
    }
   },
   "outputs": [
    {
     "data": {
      "image/png": "[encoded data removed]",
      "text/plain": [
       "<Figure size 864x432 with 1 Axes>"
      ]
     },
     "metadata": {
      "needs_background": "light"
     },
     "output_type": "display_data"
    }
   ],
   "source": [
    "trainacc100 = 100*np.array(model_neural_network.record_train_accuracy)\n",
    "testacc100 = 100*np.array(model_neural_network.record_test_accuracy)\n",
    "\n",
    "plt.figure(figsize=(12, 6))\n",
    "plt.plot(trainacc100, 'b', label='train')\n",
    "plt.plot(testacc100, 'r', label='test')\n",
    "plt.title('Accuracy curve of train and test', fontsize=25)\n",
    "plt.xlabel('iteration', fontsize=15)\n",
    "plt.ylabel('accuracy (%)', fontsize=15)\n",
    "plt.legend(loc='best', fontsize=15)\n",
    "plt.tight_layout()\n",
    "plt.show()"
   ]
  },
  {
   "cell_type": "markdown",
   "metadata": {},
   "source": [
    "# 3. Plot the accuracy value"
   ]
  },
  {
   "cell_type": "code",
   "execution_count": 18,
   "metadata": {
    "ExecuteTime": {
     "end_time": "2020-05-31T19:27:36.334041Z",
     "start_time": "2020-05-31T19:27:36.325046Z"
    }
   },
   "outputs": [
    {
     "name": "stdout",
     "output_type": "stream",
     "text": [
      "Final train accuracy : 100.0%, Final train loss : 8.839211095227054\n",
      "Final test accuracy : 88.7%, Final test loss : 9.493296561861259\n"
     ]
    }
   ],
   "source": [
    "traina = trainacc100[-1]\n",
    "testa = testacc100[-1]\n",
    "trainb = traincost[-1]\n",
    "testb = testcost[-1]\n",
    "\n",
    "print('Final train accuracy : {}%, Final train loss : {}'.format(traina, trainb))\n",
    "print('Final test accuracy : {}%, Final test loss : {}'.format(testa, testb))"
   ]
  },
  {
   "cell_type": "markdown",
   "metadata": {},
   "source": [
    "# 4. Plot the classification example"
   ]
  },
  {
   "cell_type": "markdown",
   "metadata": {},
   "source": [
    "## 4-1 Plot of right-predicted classification caes"
   ]
  },
  {
   "cell_type": "code",
   "execution_count": 19,
   "metadata": {
    "ExecuteTime": {
     "end_time": "2020-05-31T19:27:36.986715Z",
     "start_time": "2020-05-31T19:27:36.339037Z"
    }
   },
   "outputs": [
    {
     "data": {
      "image/png": "[encoded data removed]",
      "text/plain": [
       "<Figure size 1080x540 with 10 Axes>"
      ]
     },
     "metadata": {
      "needs_background": "light"
     },
     "output_type": "display_data"
    }
   ],
   "source": [
    "fig1, axes1 = plt.subplots(2, 5, figsize=(15, 7.5))\n",
    "axes1 = axes1.ravel()\n",
    "\n",
    "for p in range(number):\n",
    "    axes1[p].imshow(cor_data_list[p], cmap='Greys', interpolation=None)\n",
    "    axes1[p].set_title('{} predicted as {}'.format(int(cor_label[p]), int(cor_pred[p])), fontsize=15)\n",
    "    axes1[p].axis('off')"
   ]
  },
  {
   "cell_type": "markdown",
   "metadata": {},
   "source": [
    "## 4-2 Plot of mis-predicted classification caes"
   ]
  },
  {
   "cell_type": "code",
   "execution_count": 20,
   "metadata": {
    "ExecuteTime": {
     "end_time": "2020-05-31T19:27:37.549364Z",
     "start_time": "2020-05-31T19:27:36.989712Z"
    }
   },
   "outputs": [
    {
     "data": {
      "image/png": "[encoded data removed]",
      "text/plain": [
       "<Figure size 1080x540 with 10 Axes>"
      ]
     },
     "metadata": {
      "needs_background": "light"
     },
     "output_type": "display_data"
    }
   ],
   "source": [
    "fig2, axes2 = plt.subplots(2, 5, figsize=(15, 7.5))\n",
    "axes2 = axes2.ravel()\n",
    "\n",
    "for p in range(number):\n",
    "    axes2[p].imshow(mis_data_list[p], cmap='Greys', interpolation=None)\n",
    "    axes2[p].set_title('{} predicted as {}'.format(int(mis_label[p]), int(mis_pred[p])), fontsize=15)\n",
    "    axes2[p].axis('off')"
   ]
  }
 ],
 "metadata": {
  "kernelspec": {
   "display_name": "Python 3",
   "language": "python",
   "name": "python3"
  },
  "language_info": {
   "codemirror_mode": {
    "name": "ipython",
    "version": 3
   },
   "file_extension": ".py",
   "mimetype": "text/x-python",
   "name": "python",
   "nbconvert_exporter": "python",
   "pygments_lexer": "ipython3",
   "version": "3.7.3"
  },
  "varInspector": {
   "cols": {
    "lenName": 16,
    "lenType": 16,
    "lenVar": 40
   },
   "kernels_config": {
    "python": {
     "delete_cmd_postfix": "",
     "delete_cmd_prefix": "del ",
     "library": "var_list.py",
     "varRefreshCmd": "print(var_dic_list())"
    },
    "r": {
     "delete_cmd_postfix": ") ",
     "delete_cmd_prefix": "rm(",
     "library": "var_list.r",
     "varRefreshCmd": "cat(var_dic_list()) "
    }
   },
   "types_to_exclude": [
    "module",
    "function",
    "builtin_function_or_method",
    "instance",
    "_Feature"
   ],
   "window_display": false
  }
 },
 "nbformat": 4,
 "nbformat_minor": 2
}
