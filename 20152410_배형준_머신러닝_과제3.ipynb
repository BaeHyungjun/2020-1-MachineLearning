{
 "cells": [
  {
   "cell_type": "markdown",
   "metadata": {},
   "source": [
    "# 20152410_배형준_머신러닝_과제3"
   ]
  },
  {
   "cell_type": "code",
   "execution_count": 1,
   "metadata": {},
   "outputs": [],
   "source": [
    "# library import\n",
    "import numpy as np\n",
    "import pandas as pd\n",
    "import matplotlib\n",
    "import matplotlib.pyplot as plt\n",
    "from mpl_toolkits import mplot3d"
   ]
  },
  {
   "cell_type": "markdown",
   "metadata": {},
   "source": [
    "# 1. Input points\n",
    "\n",
    "load csv file using read_csv in pandas and make plot of data points"
   ]
  },
  {
   "cell_type": "code",
   "execution_count": 2,
   "metadata": {},
   "outputs": [],
   "source": [
    "# set my local working directory\n",
    "\n",
    "import os\n",
    "\n",
    "directory = 'C:\\\\Users\\\\golds\\\\Desktop\\\\중앙대학교\\\\2020-1 4학년 1학기\\\\머신러닝'\n",
    "os.chdir(directory)"
   ]
  },
  {
   "cell_type": "code",
   "execution_count": 3,
   "metadata": {},
   "outputs": [
    {
     "data": {
      "text/html": [
       "<div>\n",
       "<style scoped>\n",
       "    .dataframe tbody tr th:only-of-type {\n",
       "        vertical-align: middle;\n",
       "    }\n",
       "\n",
       "    .dataframe tbody tr th {\n",
       "        vertical-align: top;\n",
       "    }\n",
       "\n",
       "    .dataframe thead th {\n",
       "        text-align: right;\n",
       "    }\n",
       "</style>\n",
       "<table border=\"1\" class=\"dataframe\">\n",
       "  <thead>\n",
       "    <tr style=\"text-align: right;\">\n",
       "      <th></th>\n",
       "      <th>X</th>\n",
       "      <th>Y</th>\n",
       "    </tr>\n",
       "  </thead>\n",
       "  <tbody>\n",
       "    <tr>\n",
       "      <th>0</th>\n",
       "      <td>-5.518410</td>\n",
       "      <td>-18.426116</td>\n",
       "    </tr>\n",
       "    <tr>\n",
       "      <th>1</th>\n",
       "      <td>7.063695</td>\n",
       "      <td>100.441003</td>\n",
       "    </tr>\n",
       "    <tr>\n",
       "      <th>2</th>\n",
       "      <td>-8.515615</td>\n",
       "      <td>-57.190307</td>\n",
       "    </tr>\n",
       "    <tr>\n",
       "      <th>3</th>\n",
       "      <td>-4.962353</td>\n",
       "      <td>-20.424181</td>\n",
       "    </tr>\n",
       "    <tr>\n",
       "      <th>4</th>\n",
       "      <td>-4.435724</td>\n",
       "      <td>-26.448666</td>\n",
       "    </tr>\n",
       "  </tbody>\n",
       "</table>\n",
       "</div>"
      ],
      "text/plain": [
       "          X           Y\n",
       "0 -5.518410  -18.426116\n",
       "1  7.063695  100.441003\n",
       "2 -8.515615  -57.190307\n",
       "3 -4.962353  -20.424181\n",
       "4 -4.435724  -26.448666"
      ]
     },
     "execution_count": 3,
     "metadata": {},
     "output_type": "execute_result"
    }
   ],
   "source": [
    "file_directory = './과제3/data.csv'\n",
    "data = pd.read_csv(file_directory, header=None)\n",
    "data.columns = ['X', 'Y']\n",
    "X = data.iloc[:, 0]\n",
    "Y = data.iloc[:, 1]\n",
    "data.head()"
   ]
  },
  {
   "cell_type": "code",
   "execution_count": 4,
   "metadata": {},
   "outputs": [
    {
     "data": {
      "image/png": "[encoded data removed]",
      "text/plain": [
       "<Figure size 720x360 with 1 Axes>"
      ]
     },
     "metadata": {
      "needs_background": "light"
     },
     "output_type": "display_data"
    }
   ],
   "source": [
    "plt.figure(figsize=(10, 5))\n",
    "plt.plot(X, Y, 'ko') # scatter plot\n",
    "plt.axhline(y=0, color='k', linewidth=0.5) # x axis\n",
    "plt.axvline(x=0, color='k', linewidth=0.5) # y axis\n",
    "plt.title('plot a set of points {X, Y}')\n",
    "plt.show()"
   ]
  },
  {
   "cell_type": "markdown",
   "metadata": {},
   "source": [
    "# 2. Linear regression result\n",
    "\n",
    "use my user definition function make_regression which was made at assignment 2"
   ]
  },
  {
   "cell_type": "code",
   "execution_count": 5,
   "metadata": {},
   "outputs": [],
   "source": [
    "def make_regression(X, Y):\n",
    "    \n",
    "    # set random initial condition of parameters\n",
    "    \n",
    "    m = len(Y)\n",
    "\n",
    "    initial_theta_0 = np.random.randn(1)\n",
    "    initial_theta_1 = np.random.randn(1)\n",
    "    list_theta_0 = [initial_theta_0]\n",
    "    list_theta_1 = [initial_theta_1]\n",
    "    \n",
    "    initial_loss = np.sum((initial_theta_0 + initial_theta_1 * X - Y)**2) / (2*m)\n",
    "    list_loss = [initial_loss]\n",
    "\n",
    "    temp_theta_0 = initial_theta_0\n",
    "    temp_theta_1 = initial_theta_1\n",
    "    temp_loss = initial_loss\n",
    "    \n",
    "    learning_rate = 0.01\n",
    "    error_bound = 0.00001\n",
    "\n",
    "    # model learning\n",
    "\n",
    "    while True:\n",
    "        # calculate gradient\n",
    "        gradient_theta_0 = np.sum(temp_theta_0 + temp_theta_1 * X - Y) / m\n",
    "        gradient_theta_1 = np.sum((temp_theta_0 + temp_theta_1 * X - Y) * X) / m\n",
    "    \n",
    "        # renew the parameters\n",
    "        next_theta_0 = temp_theta_0 - learning_rate * gradient_theta_0\n",
    "        next_theta_1 = temp_theta_1 - learning_rate * gradient_theta_1\n",
    "    \n",
    "        temp_theta_0 = next_theta_0\n",
    "        temp_theta_1 = next_theta_1\n",
    "    \n",
    "        # calculate loss to evaluate the parameters\n",
    "        next_loss = np.sum((next_theta_0 + next_theta_1 * X - Y)**2) / (2*m)\n",
    "    \n",
    "        # store results\n",
    "        list_theta_0.append(next_theta_0)\n",
    "        list_theta_1.append(next_theta_1)\n",
    "        list_loss.append(next_loss)\n",
    "    \n",
    "        # stopping rule\n",
    "        if temp_loss - next_loss < error_bound:\n",
    "            break\n",
    "    \n",
    "        temp_loss = next_loss\n",
    "    \n",
    "    theta_0_hat = list_theta_0[-1]\n",
    "    theta_1_hat = list_theta_1[-1]\n",
    "    \n",
    "    return theta_0_hat, theta_1_hat, list_theta_0, list_theta_1, list_loss"
   ]
  },
  {
   "cell_type": "code",
   "execution_count": 6,
   "metadata": {},
   "outputs": [],
   "source": [
    "theta_0_hat, theta_1_hat, list_theta_0, list_theta_1, list_loss = make_regression(X, Y)"
   ]
  },
  {
   "cell_type": "code",
   "execution_count": 7,
   "metadata": {},
   "outputs": [
    {
     "name": "stdout",
     "output_type": "stream",
     "text": [
      " My linear regression model estimates the paramaters as follows. \n",
      " theta_0 : [24.87608368], theta_1 : [9.93415342]\n"
     ]
    }
   ],
   "source": [
    "print(' My linear regression model estimates the paramaters as follows. \\n theta_0 : {}, theta_1 : {}'\n",
    "      .format(theta_0_hat, theta_1_hat))"
   ]
  },
  {
   "cell_type": "code",
   "execution_count": 8,
   "metadata": {},
   "outputs": [],
   "source": [
    "# get fitted values for making plot\n",
    "\n",
    "Y_hat = theta_0_hat + theta_1_hat * X"
   ]
  },
  {
   "cell_type": "code",
   "execution_count": 9,
   "metadata": {},
   "outputs": [
    {
     "data": {
      "image/png": "[encoded data removed]",
      "text/plain": [
       "<Figure size 720x360 with 1 Axes>"
      ]
     },
     "metadata": {
      "needs_background": "light"
     },
     "output_type": "display_data"
    }
   ],
   "source": [
    "plt.figure(figsize=(10, 5))\n",
    "plt.plot(X, Y, 'ko') # scatter plot\n",
    "plt.plot(X, Y_hat, 'r', linestyle='-', linewidth=2) # estimated linear regression line\n",
    "plt.axhline(y=0, color='k', linewidth=0.5) # x axis\n",
    "plt.axvline(x=0, color='k', linewidth=0.5) # y axis\n",
    "plt.title('plot a set of points {X, Y} with estimated linear regression line')\n",
    "plt.show()"
   ]
  }
 ],
 "metadata": {
  "kernelspec": {
   "display_name": "Python 3",
   "language": "python",
   "name": "python3"
  },
  "language_info": {
   "codemirror_mode": {
    "name": "ipython",
    "version": 3
   },
   "file_extension": ".py",
   "mimetype": "text/x-python",
   "name": "python",
   "nbconvert_exporter": "python",
   "pygments_lexer": "ipython3",
   "version": "3.7.3"
  }
 },
 "nbformat": 4,
 "nbformat_minor": 2
}
